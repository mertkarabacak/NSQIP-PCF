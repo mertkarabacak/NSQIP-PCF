{
 "cells": [
  {
   "cell_type": "code",
   "execution_count": null,
   "id": "vZ9ODoBSguOo",
   "metadata": {
    "colab": {
     "base_uri": "https://localhost:8080/"
    },
    "executionInfo": {
     "elapsed": 25509,
     "status": "ok",
     "timestamp": 1669317176092,
     "user": {
      "displayName": "Mert Karabacak",
      "userId": "14308977132914475412"
     },
     "user_tz": 300
    },
    "id": "vZ9ODoBSguOo",
    "outputId": "2795c7eb-a8f2-4fda-dcf7-7ebfe32fa6b4"
   },
   "outputs": [],
   "source": [
    "from google.colab import drive\n",
    "drive.mount('/content/drive')"
   ]
  },
  {
   "cell_type": "code",
   "execution_count": null,
   "id": "45bff18b",
   "metadata": {
    "executionInfo": {
     "elapsed": 1199,
     "status": "ok",
     "timestamp": 1669317177289,
     "user": {
      "displayName": "Mert Karabacak",
      "userId": "14308977132914475412"
     },
     "user_tz": 300
    },
    "id": "45bff18b",
    "tags": []
   },
   "outputs": [],
   "source": [
    "import numpy as np\n",
    "import pandas as pd\n",
    "from pandas.api.types import CategoricalDtype\n",
    "\n",
    "from sklearn.preprocessing import OneHotEncoder\n",
    "from sklearn.preprocessing import LabelEncoder\n",
    "from sklearn.preprocessing import RobustScaler\n",
    "from sklearn.preprocessing import MinMaxScaler\n",
    "from sklearn.impute import KNNImputer\n",
    "\n",
    "from matplotlib import pyplot as plt\n",
    "\n",
    "pd.set_option('display.max_rows', None)"
   ]
  },
  {
   "cell_type": "code",
   "execution_count": null,
   "id": "721c822b",
   "metadata": {
    "colab": {
     "base_uri": "https://localhost:8080/",
     "height": 681
    },
    "executionInfo": {
     "elapsed": 992,
     "status": "ok",
     "timestamp": 1669317178280,
     "user": {
      "displayName": "Mert Karabacak",
      "userId": "14308977132914475412"
     },
     "user_tz": 300
    },
    "id": "721c822b",
    "outputId": "c4976e10-10a0-4163-9865-d7fcf7fcde60"
   },
   "outputs": [],
   "source": [
    "#Open csv file.\n",
    "\n",
    "data = pd.read_csv(\"/content/drive/MyDrive/NSQIP-PCF/pcf_combined.csv\", index_col=0, na_values = -99)\n",
    "data.head()"
   ]
  },
  {
   "cell_type": "code",
   "execution_count": null,
   "id": "2ddf793b",
   "metadata": {
    "colab": {
     "base_uri": "https://localhost:8080/"
    },
    "executionInfo": {
     "elapsed": 13,
     "status": "ok",
     "timestamp": 1669317178280,
     "user": {
      "displayName": "Mert Karabacak",
      "userId": "14308977132914475412"
     },
     "user_tz": 300
    },
    "id": "2ddf793b",
    "outputId": "39d3f990-b760-4424-f01e-43d0021812a7"
   },
   "outputs": [],
   "source": [
    "#See all columns.\n",
    "\n",
    "print(list(data.columns))"
   ]
  },
  {
   "cell_type": "code",
   "execution_count": null,
   "id": "6b72f120",
   "metadata": {
    "colab": {
     "base_uri": "https://localhost:8080/"
    },
    "executionInfo": {
     "elapsed": 8,
     "status": "ok",
     "timestamp": 1669317178280,
     "user": {
      "displayName": "Mert Karabacak",
      "userId": "14308977132914475412"
     },
     "user_tz": 300
    },
    "id": "6b72f120",
    "outputId": "931ba240-6c3e-487d-c0ce-d29c0bffd5d6"
   },
   "outputs": [],
   "source": [
    "#Check data shape.\n",
    "\n",
    "data.shape"
   ]
  },
  {
   "cell_type": "code",
   "execution_count": null,
   "id": "a143c94a",
   "metadata": {
    "executionInfo": {
     "elapsed": 7,
     "status": "ok",
     "timestamp": 1669317178281,
     "user": {
      "displayName": "Mert Karabacak",
      "userId": "14308977132914475412"
     },
     "user_tz": 300
    },
    "id": "a143c94a"
   },
   "outputs": [],
   "source": [
    "#Define variables of interest (predictor variables, inclusion/exclusion criteria, outcomes of interest).\n",
    "\n",
    "variables = ['SEX', 'RACE_NEW', 'ETHNICITY_HISPANIC', 'CPT', 'INOUT', 'TRANST', 'AGE', 'DISCHDEST', 'ANESTHES', 'SURGSPEC', 'ELECTSURG', 'HEIGHT', 'WEIGHT', 'DIABETES', 'SMOKE', 'DYSPNEA', 'FNSTATUS2', 'VENTILAT', 'HXCOPD', 'ASCITES', 'HXCHF', 'HYPERMED', 'RENAFAIL', 'DIALYSIS', 'DISCANCR', 'WNDINF', 'STEROID', 'WTLOSS', 'BLEEDDIS', 'TRANSFUS', 'PRSEPIS', 'PRSODM', 'PRBUN', 'PRCREAT', 'PRALBUM', 'PRBILI', 'PRSGOT', 'PRALKPH', 'PRWBC', 'PRHCT', 'PRPLATE', 'PRPTT', 'PRINR', 'PRPT', 'OTHERCPT1', 'OTHERCPT2', 'OTHERCPT3', 'OTHERCPT4', 'OTHERCPT5', 'OTHERCPT6', 'OTHERCPT7', 'OTHERCPT8', 'OTHERCPT9', 'OTHERCPT10', 'CONCPT1', 'CONCPT2', 'CONCPT3', 'CONCPT4', 'CONCPT5', 'CONCPT6', 'CONCPT7', 'CONCPT8', 'CONCPT9', 'CONCPT10', 'EMERGNCY', 'WNDCLAS', 'ASACLAS', 'OPTIME', 'TOTHLOS', 'HTOODAY', 'NSUPINFEC', 'NWNDINFD', 'NORGSPCSSI', 'NDEHIS', 'NOUPNEUMO', 'NREINTUB', 'NPULEMBOL', 'NFAILWEAN', 'NRENAINSF', 'NOPRENAFL', 'NURNINFEC', 'NCNSCVA', 'NCDARREST', 'NCDMI', 'NOTHBLEED', 'NOTHDVT', 'NOTHSYSEP', 'NOTHSESHOCK', 'PODIAG', 'PODIAG10', 'STILLINHOSP', 'READMISSION1']"
   ]
  },
  {
   "cell_type": "code",
   "execution_count": null,
   "id": "a21a408c",
   "metadata": {
    "colab": {
     "base_uri": "https://localhost:8080/"
    },
    "executionInfo": {
     "elapsed": 7,
     "status": "ok",
     "timestamp": 1669317178281,
     "user": {
      "displayName": "Mert Karabacak",
      "userId": "14308977132914475412"
     },
     "user_tz": 300
    },
    "id": "a21a408c",
    "outputId": "0c153ea3-d4c9-449e-80c2-6556df8a8568"
   },
   "outputs": [],
   "source": [
    "#Remove unwanted columns and check data shape.\n",
    "\n",
    "data = data[variables]\n",
    "\n",
    "data.shape"
   ]
  },
  {
   "cell_type": "code",
   "execution_count": null,
   "id": "e833d5f3-9f7f-4a3e-8d7a-afc513b32bb0",
   "metadata": {
    "executionInfo": {
     "elapsed": 5,
     "status": "ok",
     "timestamp": 1669317178281,
     "user": {
      "displayName": "Mert Karabacak",
      "userId": "14308977132914475412"
     },
     "user_tz": 300
    },
    "id": "e833d5f3-9f7f-4a3e-8d7a-afc513b32bb0"
   },
   "outputs": [],
   "source": [
    "#See the ICD codes' unique value counts for the patient cohort.\n",
    "\n",
    "icd_codes_df = data['PODIAG10'].value_counts(normalize=False, dropna=False).to_frame()\n",
    "icd_codes_index = icd_codes_df.index.tolist()"
   ]
  },
  {
   "cell_type": "code",
   "execution_count": null,
   "id": "yljUZHWcoy8e",
   "metadata": {
    "executionInfo": {
     "elapsed": 5,
     "status": "ok",
     "timestamp": 1669317178281,
     "user": {
      "displayName": "Mert Karabacak",
      "userId": "14308977132914475412"
     },
     "user_tz": 300
    },
    "id": "yljUZHWcoy8e"
   },
   "outputs": [],
   "source": [
    "#Exclude patients with ICD codes that were used less than 10 in the patient population.\n",
    "\n",
    "icd_codes_df = data['PODIAG10'].value_counts(normalize=False, dropna=False).to_frame()\n",
    "\n",
    "icd_codes_df.columns =['Value']\n",
    "\n",
    "icd_codes_df = icd_codes_df[icd_codes_df['Value'] >= 10]\n",
    "\n",
    "icd_to_include = icd_codes_df.index.tolist()\n",
    "\n",
    "data = data[data.PODIAG10.isin(icd_to_include)]"
   ]
  },
  {
   "cell_type": "code",
   "execution_count": null,
   "id": "70a79794-5bfb-4eb4-9578-4fafaaeac68d",
   "metadata": {
    "executionInfo": {
     "elapsed": 746,
     "status": "ok",
     "timestamp": 1669317179022,
     "user": {
      "displayName": "Mert Karabacak",
      "userId": "14308977132914475412"
     },
     "user_tz": 300
    },
    "id": "70a79794-5bfb-4eb4-9578-4fafaaeac68d",
    "tags": []
   },
   "outputs": [],
   "source": [
    "#Get the descriptions for ICD codes.\n",
    "\n",
    "icd10 = pd.read_csv(\"/content/drive/MyDrive/NSQIP-PCF/icd10_descriptions.csv\", index_col = 'PODIAG10', encoding = 'latin1', low_memory = False)\n",
    "icd10 = icd10.filter(items = icd_to_include, axis=0)"
   ]
  },
  {
   "cell_type": "code",
   "execution_count": null,
   "id": "fea582d8-4978-41d4-9d56-0be025df47be",
   "metadata": {
    "colab": {
     "base_uri": "https://localhost:8080/",
     "height": 1000
    },
    "executionInfo": {
     "elapsed": 413,
     "status": "ok",
     "timestamp": 1669317179434,
     "user": {
      "displayName": "Mert Karabacak",
      "userId": "14308977132914475412"
     },
     "user_tz": 300
    },
    "id": "fea582d8-4978-41d4-9d56-0be025df47be",
    "outputId": "dfad62cc-c7b0-49ae-82ac-b81383b329de",
    "tags": []
   },
   "outputs": [],
   "source": [
    "#Save the ICD codes with descriptions and value counts.\n",
    "\n",
    "icd = pd.concat([icd10, icd_codes_df], axis=1)\n",
    "icd.to_csv('/content/drive/MyDrive/NSQIP-PCF/icd.csv')\n",
    "icd"
   ]
  },
  {
   "cell_type": "code",
   "execution_count": null,
   "id": "IoPCXtGIrW6Y",
   "metadata": {
    "executionInfo": {
     "elapsed": 9,
     "status": "ok",
     "timestamp": 1669317179435,
     "user": {
      "displayName": "Mert Karabacak",
      "userId": "14308977132914475412"
     },
     "user_tz": 300
    },
    "id": "IoPCXtGIrW6Y"
   },
   "outputs": [],
   "source": [
    "#Review the ICD table for excluding patients with exclude patients diagnosed with a fracture, neoplasm, infection, instrumentation related complications or lumbar/thoracic/sacral site diagnoses.\n",
    "\n",
    "icd_to_exclude = ['C79.49', 'C79.51', 'G06.1', 'M46.22', 'M84.58XA', 'S12.000A', 'S12.100A', 'S12.300A', 'S12.400A', 'S12.500A', 'S12.590A', 'S12.9XXA']\n",
    "\n",
    "data = data[~data.PODIAG10.isin(icd_to_exclude)]"
   ]
  },
  {
   "cell_type": "code",
   "execution_count": null,
   "id": "9ReAHIpq0fdo",
   "metadata": {
    "executionInfo": {
     "elapsed": 9,
     "status": "ok",
     "timestamp": 1669317179435,
     "user": {
      "displayName": "Mert Karabacak",
      "userId": "14308977132914475412"
     },
     "user_tz": 300
    },
    "id": "9ReAHIpq0fdo"
   },
   "outputs": [],
   "source": [
    "#Drop patients with missing ICD codes.\n",
    "\n",
    "data = data[data['PODIAG10'].notna()]"
   ]
  },
  {
   "cell_type": "code",
   "execution_count": null,
   "id": "iXKp4-it1DFo",
   "metadata": {
    "colab": {
     "base_uri": "https://localhost:8080/"
    },
    "executionInfo": {
     "elapsed": 8,
     "status": "ok",
     "timestamp": 1669317179435,
     "user": {
      "displayName": "Mert Karabacak",
      "userId": "14308977132914475412"
     },
     "user_tz": 300
    },
    "id": "iXKp4-it1DFo",
    "outputId": "45251067-1cc8-4229-e028-13743282837c"
   },
   "outputs": [],
   "source": [
    "#Check data for ICD codes.\n",
    "\n",
    "data['PODIAG10'].value_counts(normalize=False, dropna=False)"
   ]
  },
  {
   "cell_type": "code",
   "execution_count": null,
   "id": "lrQkyLFr3jcd",
   "metadata": {
    "colab": {
     "base_uri": "https://localhost:8080/"
    },
    "executionInfo": {
     "elapsed": 648,
     "status": "ok",
     "timestamp": 1669317180080,
     "user": {
      "displayName": "Mert Karabacak",
      "userId": "14308977132914475412"
     },
     "user_tz": 300
    },
    "id": "lrQkyLFr3jcd",
    "outputId": "933141e0-e5e8-48c3-af80-4aef39a2b479"
   },
   "outputs": [],
   "source": [
    "#Define the CPT to codes to exclude (anterior cervical procedures, thoracic and/or lumbar fusion, revision, intraspinal lesion).\n",
    "\n",
    "data.loc[data['CPT'] == 63075, 'CPT_EX'] = 'Yes'\n",
    "data.loc[data['CPT'] == 22554, 'CPT_EX'] = 'Yes'\n",
    "data.loc[data['CPT'] == 22585, 'CPT_EX'] = 'Yes'\n",
    "data.loc[data['CPT'] == 22551, 'CPT_EX'] = 'Yes'\n",
    "data.loc[data['CPT'] == 22552, 'CPT_EX'] = 'Yes'\n",
    "data.loc[data['CPT'] == 22220, 'CPT_EX'] = 'Yes'\n",
    "data.loc[data['CPT'] == 22556, 'CPT_EX'] = 'Yes'\n",
    "data.loc[data['CPT'] == 22558, 'CPT_EX'] = 'Yes'\n",
    "data.loc[data['CPT'] == 22610, 'CPT_EX'] = 'Yes'\n",
    "data.loc[data['CPT'] == 22612, 'CPT_EX'] = 'Yes'\n",
    "data.loc[data['CPT'] == 22630, 'CPT_EX'] = 'Yes'\n",
    "data.loc[data['CPT'] == 22632, 'CPT_EX'] = 'Yes'\n",
    "data.loc[data['CPT'] == 22633, 'CPT_EX'] = 'Yes'\n",
    "data.loc[data['CPT'] == 22634, 'CPT_EX'] = 'Yes'\n",
    "data.loc[data['CPT'] == 20680, 'CPT_EX'] = 'Yes'\n",
    "data.loc[data['CPT'] == 22830, 'CPT_EX'] = 'Yes'\n",
    "data.loc[data['CPT'] == 22849, 'CPT_EX'] = 'Yes'\n",
    "data.loc[data['CPT'] == 22850, 'CPT_EX'] = 'Yes'\n",
    "data.loc[data['CPT'] == 22852, 'CPT_EX'] = 'Yes'\n",
    "data.loc[data['CPT'] == 22855, 'CPT_EX'] = 'Yes'\n",
    "data.loc[data['CPT'] == 63300, 'CPT_EX'] = 'Yes'\n",
    "data.loc[data['CPT'] == 63301, 'CPT_EX'] = 'Yes'\n",
    "data.loc[data['CPT'] == 63304, 'CPT_EX'] = 'Yes'\n",
    "data.loc[data['CPT'] == 63308, 'CPT_EX'] = 'Yes'\n",
    "\n",
    "data.loc[data['CONCPT1'] == 63075, 'CPT_EX'] = 'Yes'\n",
    "data.loc[data['CONCPT1'] == 22554, 'CPT_EX'] = 'Yes'\n",
    "data.loc[data['CONCPT1'] == 22585, 'CPT_EX'] = 'Yes'\n",
    "data.loc[data['CONCPT1'] == 22551, 'CPT_EX'] = 'Yes'\n",
    "data.loc[data['CONCPT1'] == 22552, 'CPT_EX'] = 'Yes'\n",
    "data.loc[data['CONCPT1'] == 22220, 'CPT_EX'] = 'Yes'\n",
    "data.loc[data['CONCPT1'] == 22556, 'CPT_EX'] = 'Yes'\n",
    "data.loc[data['CONCPT1'] == 22558, 'CPT_EX'] = 'Yes'\n",
    "data.loc[data['CONCPT1'] == 22610, 'CPT_EX'] = 'Yes'\n",
    "data.loc[data['CONCPT1'] == 22612, 'CPT_EX'] = 'Yes'\n",
    "data.loc[data['CONCPT1'] == 22630, 'CPT_EX'] = 'Yes'\n",
    "data.loc[data['CONCPT1'] == 22632, 'CPT_EX'] = 'Yes'\n",
    "data.loc[data['CONCPT1'] == 22633, 'CPT_EX'] = 'Yes'\n",
    "data.loc[data['CONCPT1'] == 22634, 'CPT_EX'] = 'Yes'\n",
    "data.loc[data['CONCPT1'] == 20680, 'CPT_EX'] = 'Yes'\n",
    "data.loc[data['CONCPT1'] == 22830, 'CPT_EX'] = 'Yes'\n",
    "data.loc[data['CONCPT1'] == 22849, 'CPT_EX'] = 'Yes'\n",
    "data.loc[data['CONCPT1'] == 22850, 'CPT_EX'] = 'Yes'\n",
    "data.loc[data['CONCPT1'] == 22852, 'CPT_EX'] = 'Yes'\n",
    "data.loc[data['CONCPT1'] == 22855, 'CPT_EX'] = 'Yes'\n",
    "data.loc[data['CONCPT1'] == 63300, 'CPT_EX'] = 'Yes'\n",
    "data.loc[data['CONCPT1'] == 63301, 'CPT_EX'] = 'Yes'\n",
    "data.loc[data['CONCPT1'] == 63304, 'CPT_EX'] = 'Yes'\n",
    "data.loc[data['CONCPT1'] == 63308, 'CPT_EX'] = 'Yes'\n",
    "\n",
    "data.loc[data['CONCPT2'] == 63075, 'CPT_EX'] = 'Yes'\n",
    "data.loc[data['CONCPT2'] == 22554, 'CPT_EX'] = 'Yes'\n",
    "data.loc[data['CONCPT2'] == 22585, 'CPT_EX'] = 'Yes'\n",
    "data.loc[data['CONCPT2'] == 22551, 'CPT_EX'] = 'Yes'\n",
    "data.loc[data['CONCPT2'] == 22552, 'CPT_EX'] = 'Yes'\n",
    "data.loc[data['CONCPT2'] == 22220, 'CPT_EX'] = 'Yes'\n",
    "data.loc[data['CONCPT2'] == 22556, 'CPT_EX'] = 'Yes'\n",
    "data.loc[data['CONCPT2'] == 22558, 'CPT_EX'] = 'Yes'\n",
    "data.loc[data['CONCPT2'] == 22610, 'CPT_EX'] = 'Yes'\n",
    "data.loc[data['CONCPT2'] == 22612, 'CPT_EX'] = 'Yes'\n",
    "data.loc[data['CONCPT2'] == 22630, 'CPT_EX'] = 'Yes'\n",
    "data.loc[data['CONCPT2'] == 22632, 'CPT_EX'] = 'Yes'\n",
    "data.loc[data['CONCPT2'] == 22633, 'CPT_EX'] = 'Yes'\n",
    "data.loc[data['CONCPT2'] == 22634, 'CPT_EX'] = 'Yes'\n",
    "data.loc[data['CONCPT2'] == 20680, 'CPT_EX'] = 'Yes'\n",
    "data.loc[data['CONCPT2'] == 22830, 'CPT_EX'] = 'Yes'\n",
    "data.loc[data['CONCPT2'] == 22849, 'CPT_EX'] = 'Yes'\n",
    "data.loc[data['CONCPT2'] == 22850, 'CPT_EX'] = 'Yes'\n",
    "data.loc[data['CONCPT2'] == 22852, 'CPT_EX'] = 'Yes'\n",
    "data.loc[data['CONCPT2'] == 22855, 'CPT_EX'] = 'Yes'\n",
    "data.loc[data['CONCPT2'] == 63300, 'CPT_EX'] = 'Yes'\n",
    "data.loc[data['CONCPT2'] == 63301, 'CPT_EX'] = 'Yes'\n",
    "data.loc[data['CONCPT2'] == 63304, 'CPT_EX'] = 'Yes'\n",
    "data.loc[data['CONCPT2'] == 63308, 'CPT_EX'] = 'Yes'\n",
    "\n",
    "data.loc[data['CONCPT3'] == 63075, 'CPT_EX'] = 'Yes'\n",
    "data.loc[data['CONCPT3'] == 22554, 'CPT_EX'] = 'Yes'\n",
    "data.loc[data['CONCPT3'] == 22585, 'CPT_EX'] = 'Yes'\n",
    "data.loc[data['CONCPT3'] == 22551, 'CPT_EX'] = 'Yes'\n",
    "data.loc[data['CONCPT3'] == 22552, 'CPT_EX'] = 'Yes'\n",
    "data.loc[data['CONCPT3'] == 22220, 'CPT_EX'] = 'Yes'\n",
    "data.loc[data['CONCPT3'] == 22556, 'CPT_EX'] = 'Yes'\n",
    "data.loc[data['CONCPT3'] == 22558, 'CPT_EX'] = 'Yes'\n",
    "data.loc[data['CONCPT3'] == 22610, 'CPT_EX'] = 'Yes'\n",
    "data.loc[data['CONCPT3'] == 22612, 'CPT_EX'] = 'Yes'\n",
    "data.loc[data['CONCPT3'] == 22630, 'CPT_EX'] = 'Yes'\n",
    "data.loc[data['CONCPT3'] == 22632, 'CPT_EX'] = 'Yes'\n",
    "data.loc[data['CONCPT3'] == 22633, 'CPT_EX'] = 'Yes'\n",
    "data.loc[data['CONCPT3'] == 22634, 'CPT_EX'] = 'Yes'\n",
    "data.loc[data['CONCPT3'] == 20680, 'CPT_EX'] = 'Yes'\n",
    "data.loc[data['CONCPT3'] == 22830, 'CPT_EX'] = 'Yes'\n",
    "data.loc[data['CONCPT3'] == 22849, 'CPT_EX'] = 'Yes'\n",
    "data.loc[data['CONCPT3'] == 22850, 'CPT_EX'] = 'Yes'\n",
    "data.loc[data['CONCPT3'] == 22852, 'CPT_EX'] = 'Yes'\n",
    "data.loc[data['CONCPT3'] == 22855, 'CPT_EX'] = 'Yes'\n",
    "data.loc[data['CONCPT3'] == 63300, 'CPT_EX'] = 'Yes'\n",
    "data.loc[data['CONCPT3'] == 63301, 'CPT_EX'] = 'Yes'\n",
    "data.loc[data['CONCPT3'] == 63304, 'CPT_EX'] = 'Yes'\n",
    "data.loc[data['CONCPT3'] == 63308, 'CPT_EX'] = 'Yes'\n",
    "\n",
    "data.loc[data['CONCPT4'] == 63075, 'CPT_EX'] = 'Yes'\n",
    "data.loc[data['CONCPT4'] == 22554, 'CPT_EX'] = 'Yes'\n",
    "data.loc[data['CONCPT4'] == 22585, 'CPT_EX'] = 'Yes'\n",
    "data.loc[data['CONCPT4'] == 22551, 'CPT_EX'] = 'Yes'\n",
    "data.loc[data['CONCPT4'] == 22552, 'CPT_EX'] = 'Yes'\n",
    "data.loc[data['CONCPT4'] == 22220, 'CPT_EX'] = 'Yes'\n",
    "data.loc[data['CONCPT4'] == 22556, 'CPT_EX'] = 'Yes'\n",
    "data.loc[data['CONCPT4'] == 22558, 'CPT_EX'] = 'Yes'\n",
    "data.loc[data['CONCPT4'] == 22610, 'CPT_EX'] = 'Yes'\n",
    "data.loc[data['CONCPT4'] == 22612, 'CPT_EX'] = 'Yes'\n",
    "data.loc[data['CONCPT4'] == 22630, 'CPT_EX'] = 'Yes'\n",
    "data.loc[data['CONCPT4'] == 22632, 'CPT_EX'] = 'Yes'\n",
    "data.loc[data['CONCPT4'] == 22633, 'CPT_EX'] = 'Yes'\n",
    "data.loc[data['CONCPT4'] == 22634, 'CPT_EX'] = 'Yes'\n",
    "data.loc[data['CONCPT4'] == 20680, 'CPT_EX'] = 'Yes'\n",
    "data.loc[data['CONCPT4'] == 22830, 'CPT_EX'] = 'Yes'\n",
    "data.loc[data['CONCPT4'] == 22849, 'CPT_EX'] = 'Yes'\n",
    "data.loc[data['CONCPT4'] == 22850, 'CPT_EX'] = 'Yes'\n",
    "data.loc[data['CONCPT4'] == 22852, 'CPT_EX'] = 'Yes'\n",
    "data.loc[data['CONCPT4'] == 22855, 'CPT_EX'] = 'Yes'\n",
    "data.loc[data['CONCPT4'] == 63300, 'CPT_EX'] = 'Yes'\n",
    "data.loc[data['CONCPT4'] == 63301, 'CPT_EX'] = 'Yes'\n",
    "data.loc[data['CONCPT4'] == 63304, 'CPT_EX'] = 'Yes'\n",
    "data.loc[data['CONCPT4'] == 63308, 'CPT_EX'] = 'Yes'\n",
    "\n",
    "data.loc[data['CONCPT5'] == 63075, 'CPT_EX'] = 'Yes'\n",
    "data.loc[data['CONCPT5'] == 22554, 'CPT_EX'] = 'Yes'\n",
    "data.loc[data['CONCPT5'] == 22585, 'CPT_EX'] = 'Yes'\n",
    "data.loc[data['CONCPT5'] == 22551, 'CPT_EX'] = 'Yes'\n",
    "data.loc[data['CONCPT5'] == 22552, 'CPT_EX'] = 'Yes'\n",
    "data.loc[data['CONCPT5'] == 22220, 'CPT_EX'] = 'Yes'\n",
    "data.loc[data['CONCPT5'] == 22556, 'CPT_EX'] = 'Yes'\n",
    "data.loc[data['CONCPT5'] == 22558, 'CPT_EX'] = 'Yes'\n",
    "data.loc[data['CONCPT5'] == 22610, 'CPT_EX'] = 'Yes'\n",
    "data.loc[data['CONCPT5'] == 22612, 'CPT_EX'] = 'Yes'\n",
    "data.loc[data['CONCPT5'] == 22630, 'CPT_EX'] = 'Yes'\n",
    "data.loc[data['CONCPT5'] == 22632, 'CPT_EX'] = 'Yes'\n",
    "data.loc[data['CONCPT5'] == 22633, 'CPT_EX'] = 'Yes'\n",
    "data.loc[data['CONCPT5'] == 22634, 'CPT_EX'] = 'Yes'\n",
    "data.loc[data['CONCPT5'] == 20680, 'CPT_EX'] = 'Yes'\n",
    "data.loc[data['CONCPT5'] == 22830, 'CPT_EX'] = 'Yes'\n",
    "data.loc[data['CONCPT5'] == 22849, 'CPT_EX'] = 'Yes'\n",
    "data.loc[data['CONCPT5'] == 22850, 'CPT_EX'] = 'Yes'\n",
    "data.loc[data['CONCPT5'] == 22852, 'CPT_EX'] = 'Yes'\n",
    "data.loc[data['CONCPT5'] == 22855, 'CPT_EX'] = 'Yes'\n",
    "data.loc[data['CONCPT5'] == 63300, 'CPT_EX'] = 'Yes'\n",
    "data.loc[data['CONCPT5'] == 63301, 'CPT_EX'] = 'Yes'\n",
    "data.loc[data['CONCPT5'] == 63304, 'CPT_EX'] = 'Yes'\n",
    "data.loc[data['CONCPT5'] == 63308, 'CPT_EX'] = 'Yes'\n",
    "\n",
    "data.loc[data['CONCPT6'] == 63075, 'CPT_EX'] = 'Yes'\n",
    "data.loc[data['CONCPT6'] == 22554, 'CPT_EX'] = 'Yes'\n",
    "data.loc[data['CONCPT6'] == 22585, 'CPT_EX'] = 'Yes'\n",
    "data.loc[data['CONCPT6'] == 22551, 'CPT_EX'] = 'Yes'\n",
    "data.loc[data['CONCPT6'] == 22552, 'CPT_EX'] = 'Yes'\n",
    "data.loc[data['CONCPT6'] == 22220, 'CPT_EX'] = 'Yes'\n",
    "data.loc[data['CONCPT6'] == 22556, 'CPT_EX'] = 'Yes'\n",
    "data.loc[data['CONCPT6'] == 22558, 'CPT_EX'] = 'Yes'\n",
    "data.loc[data['CONCPT6'] == 22610, 'CPT_EX'] = 'Yes'\n",
    "data.loc[data['CONCPT6'] == 22612, 'CPT_EX'] = 'Yes'\n",
    "data.loc[data['CONCPT6'] == 22630, 'CPT_EX'] = 'Yes'\n",
    "data.loc[data['CONCPT6'] == 22632, 'CPT_EX'] = 'Yes'\n",
    "data.loc[data['CONCPT6'] == 22633, 'CPT_EX'] = 'Yes'\n",
    "data.loc[data['CONCPT6'] == 22634, 'CPT_EX'] = 'Yes'\n",
    "data.loc[data['CONCPT6'] == 20680, 'CPT_EX'] = 'Yes'\n",
    "data.loc[data['CONCPT6'] == 22830, 'CPT_EX'] = 'Yes'\n",
    "data.loc[data['CONCPT6'] == 22849, 'CPT_EX'] = 'Yes'\n",
    "data.loc[data['CONCPT6'] == 22850, 'CPT_EX'] = 'Yes'\n",
    "data.loc[data['CONCPT6'] == 22852, 'CPT_EX'] = 'Yes'\n",
    "data.loc[data['CONCPT6'] == 22855, 'CPT_EX'] = 'Yes'\n",
    "data.loc[data['CONCPT6'] == 63300, 'CPT_EX'] = 'Yes'\n",
    "data.loc[data['CONCPT6'] == 63301, 'CPT_EX'] = 'Yes'\n",
    "data.loc[data['CONCPT6'] == 63304, 'CPT_EX'] = 'Yes'\n",
    "data.loc[data['CONCPT6'] == 63308, 'CPT_EX'] = 'Yes'\n",
    "\n",
    "data.loc[data['CONCPT7'] == 63075, 'CPT_EX'] = 'Yes'\n",
    "data.loc[data['CONCPT7'] == 22554, 'CPT_EX'] = 'Yes'\n",
    "data.loc[data['CONCPT7'] == 22585, 'CPT_EX'] = 'Yes'\n",
    "data.loc[data['CONCPT7'] == 22551, 'CPT_EX'] = 'Yes'\n",
    "data.loc[data['CONCPT7'] == 22552, 'CPT_EX'] = 'Yes'\n",
    "data.loc[data['CONCPT7'] == 22220, 'CPT_EX'] = 'Yes'\n",
    "data.loc[data['CONCPT7'] == 22556, 'CPT_EX'] = 'Yes'\n",
    "data.loc[data['CONCPT7'] == 22558, 'CPT_EX'] = 'Yes'\n",
    "data.loc[data['CONCPT7'] == 22610, 'CPT_EX'] = 'Yes'\n",
    "data.loc[data['CONCPT7'] == 22612, 'CPT_EX'] = 'Yes'\n",
    "data.loc[data['CONCPT7'] == 22630, 'CPT_EX'] = 'Yes'\n",
    "data.loc[data['CONCPT7'] == 22632, 'CPT_EX'] = 'Yes'\n",
    "data.loc[data['CONCPT7'] == 22633, 'CPT_EX'] = 'Yes'\n",
    "data.loc[data['CONCPT7'] == 22634, 'CPT_EX'] = 'Yes'\n",
    "data.loc[data['CONCPT7'] == 20680, 'CPT_EX'] = 'Yes'\n",
    "data.loc[data['CONCPT7'] == 22830, 'CPT_EX'] = 'Yes'\n",
    "data.loc[data['CONCPT7'] == 22849, 'CPT_EX'] = 'Yes'\n",
    "data.loc[data['CONCPT7'] == 22850, 'CPT_EX'] = 'Yes'\n",
    "data.loc[data['CONCPT7'] == 22852, 'CPT_EX'] = 'Yes'\n",
    "data.loc[data['CONCPT7'] == 22855, 'CPT_EX'] = 'Yes'\n",
    "data.loc[data['CONCPT7'] == 63300, 'CPT_EX'] = 'Yes'\n",
    "data.loc[data['CONCPT7'] == 63301, 'CPT_EX'] = 'Yes'\n",
    "data.loc[data['CONCPT7'] == 63304, 'CPT_EX'] = 'Yes'\n",
    "data.loc[data['CONCPT7'] == 63308, 'CPT_EX'] = 'Yes'\n",
    "\n",
    "data.loc[data['CONCPT8'] == 63075, 'CPT_EX'] = 'Yes'\n",
    "data.loc[data['CONCPT8'] == 22554, 'CPT_EX'] = 'Yes'\n",
    "data.loc[data['CONCPT8'] == 22585, 'CPT_EX'] = 'Yes'\n",
    "data.loc[data['CONCPT8'] == 22551, 'CPT_EX'] = 'Yes'\n",
    "data.loc[data['CONCPT8'] == 22552, 'CPT_EX'] = 'Yes'\n",
    "data.loc[data['CONCPT8'] == 22220, 'CPT_EX'] = 'Yes'\n",
    "data.loc[data['CONCPT8'] == 22556, 'CPT_EX'] = 'Yes'\n",
    "data.loc[data['CONCPT8'] == 22558, 'CPT_EX'] = 'Yes'\n",
    "data.loc[data['CONCPT8'] == 22610, 'CPT_EX'] = 'Yes'\n",
    "data.loc[data['CONCPT8'] == 22612, 'CPT_EX'] = 'Yes'\n",
    "data.loc[data['CONCPT8'] == 22630, 'CPT_EX'] = 'Yes'\n",
    "data.loc[data['CONCPT8'] == 22632, 'CPT_EX'] = 'Yes'\n",
    "data.loc[data['CONCPT8'] == 22633, 'CPT_EX'] = 'Yes'\n",
    "data.loc[data['CONCPT8'] == 22634, 'CPT_EX'] = 'Yes'\n",
    "data.loc[data['CONCPT8'] == 20680, 'CPT_EX'] = 'Yes'\n",
    "data.loc[data['CONCPT8'] == 22830, 'CPT_EX'] = 'Yes'\n",
    "data.loc[data['CONCPT8'] == 22849, 'CPT_EX'] = 'Yes'\n",
    "data.loc[data['CONCPT8'] == 22850, 'CPT_EX'] = 'Yes'\n",
    "data.loc[data['CONCPT8'] == 22852, 'CPT_EX'] = 'Yes'\n",
    "data.loc[data['CONCPT8'] == 22855, 'CPT_EX'] = 'Yes'\n",
    "data.loc[data['CONCPT8'] == 63300, 'CPT_EX'] = 'Yes'\n",
    "data.loc[data['CONCPT8'] == 63301, 'CPT_EX'] = 'Yes'\n",
    "data.loc[data['CONCPT8'] == 63304, 'CPT_EX'] = 'Yes'\n",
    "data.loc[data['CONCPT8'] == 63308, 'CPT_EX'] = 'Yes'\n",
    "\n",
    "data.loc[data['CONCPT9'] == 63075, 'CPT_EX'] = 'Yes'\n",
    "data.loc[data['CONCPT9'] == 22554, 'CPT_EX'] = 'Yes'\n",
    "data.loc[data['CONCPT9'] == 22585, 'CPT_EX'] = 'Yes'\n",
    "data.loc[data['CONCPT9'] == 22551, 'CPT_EX'] = 'Yes'\n",
    "data.loc[data['CONCPT9'] == 22552, 'CPT_EX'] = 'Yes'\n",
    "data.loc[data['CONCPT9'] == 22220, 'CPT_EX'] = 'Yes'\n",
    "data.loc[data['CONCPT9'] == 22556, 'CPT_EX'] = 'Yes'\n",
    "data.loc[data['CONCPT9'] == 22558, 'CPT_EX'] = 'Yes'\n",
    "data.loc[data['CONCPT9'] == 22610, 'CPT_EX'] = 'Yes'\n",
    "data.loc[data['CONCPT9'] == 22612, 'CPT_EX'] = 'Yes'\n",
    "data.loc[data['CONCPT9'] == 22630, 'CPT_EX'] = 'Yes'\n",
    "data.loc[data['CONCPT9'] == 22632, 'CPT_EX'] = 'Yes'\n",
    "data.loc[data['CONCPT9'] == 22633, 'CPT_EX'] = 'Yes'\n",
    "data.loc[data['CONCPT9'] == 22634, 'CPT_EX'] = 'Yes'\n",
    "data.loc[data['CONCPT9'] == 20680, 'CPT_EX'] = 'Yes'\n",
    "data.loc[data['CONCPT9'] == 22830, 'CPT_EX'] = 'Yes'\n",
    "data.loc[data['CONCPT9'] == 22849, 'CPT_EX'] = 'Yes'\n",
    "data.loc[data['CONCPT9'] == 22850, 'CPT_EX'] = 'Yes'\n",
    "data.loc[data['CONCPT9'] == 22852, 'CPT_EX'] = 'Yes'\n",
    "data.loc[data['CONCPT9'] == 22855, 'CPT_EX'] = 'Yes'\n",
    "data.loc[data['CONCPT9'] == 63300, 'CPT_EX'] = 'Yes'\n",
    "data.loc[data['CONCPT9'] == 63301, 'CPT_EX'] = 'Yes'\n",
    "data.loc[data['CONCPT9'] == 63304, 'CPT_EX'] = 'Yes'\n",
    "data.loc[data['CONCPT9'] == 63308, 'CPT_EX'] = 'Yes'\n",
    "\n",
    "data.loc[data['CONCPT10'] == 63075, 'CPT_EX'] = 'Yes'\n",
    "data.loc[data['CONCPT10'] == 22554, 'CPT_EX'] = 'Yes'\n",
    "data.loc[data['CONCPT10'] == 22585, 'CPT_EX'] = 'Yes'\n",
    "data.loc[data['CONCPT10'] == 22551, 'CPT_EX'] = 'Yes'\n",
    "data.loc[data['CONCPT10'] == 22552, 'CPT_EX'] = 'Yes'\n",
    "data.loc[data['CONCPT10'] == 22220, 'CPT_EX'] = 'Yes'\n",
    "data.loc[data['CONCPT10'] == 22556, 'CPT_EX'] = 'Yes'\n",
    "data.loc[data['CONCPT10'] == 22558, 'CPT_EX'] = 'Yes'\n",
    "data.loc[data['CONCPT10'] == 22610, 'CPT_EX'] = 'Yes'\n",
    "data.loc[data['CONCPT10'] == 22612, 'CPT_EX'] = 'Yes'\n",
    "data.loc[data['CONCPT10'] == 22630, 'CPT_EX'] = 'Yes'\n",
    "data.loc[data['CONCPT10'] == 22632, 'CPT_EX'] = 'Yes'\n",
    "data.loc[data['CONCPT10'] == 22633, 'CPT_EX'] = 'Yes'\n",
    "data.loc[data['CONCPT10'] == 22634, 'CPT_EX'] = 'Yes'\n",
    "data.loc[data['CONCPT10'] == 20680, 'CPT_EX'] = 'Yes'\n",
    "data.loc[data['CONCPT10'] == 22830, 'CPT_EX'] = 'Yes'\n",
    "data.loc[data['CONCPT10'] == 22849, 'CPT_EX'] = 'Yes'\n",
    "data.loc[data['CONCPT10'] == 22850, 'CPT_EX'] = 'Yes'\n",
    "data.loc[data['CONCPT10'] == 22852, 'CPT_EX'] = 'Yes'\n",
    "data.loc[data['CONCPT10'] == 22855, 'CPT_EX'] = 'Yes'\n",
    "data.loc[data['CONCPT10'] == 63300, 'CPT_EX'] = 'Yes'\n",
    "data.loc[data['CONCPT10'] == 63301, 'CPT_EX'] = 'Yes'\n",
    "data.loc[data['CONCPT10'] == 63304, 'CPT_EX'] = 'Yes'\n",
    "data.loc[data['CONCPT10'] == 63308, 'CPT_EX'] = 'Yes'\n",
    "\n",
    "data.loc[data['OTHERCPT1'] == 63075, 'CPT_EX'] = 'Yes'\n",
    "data.loc[data['OTHERCPT1'] == 22554, 'CPT_EX'] = 'Yes'\n",
    "data.loc[data['OTHERCPT1'] == 22585, 'CPT_EX'] = 'Yes'\n",
    "data.loc[data['OTHERCPT1'] == 22551, 'CPT_EX'] = 'Yes'\n",
    "data.loc[data['OTHERCPT1'] == 22552, 'CPT_EX'] = 'Yes'\n",
    "data.loc[data['OTHERCPT1'] == 22220, 'CPT_EX'] = 'Yes'\n",
    "data.loc[data['OTHERCPT1'] == 22556, 'CPT_EX'] = 'Yes'\n",
    "data.loc[data['OTHERCPT1'] == 22558, 'CPT_EX'] = 'Yes'\n",
    "data.loc[data['OTHERCPT1'] == 22610, 'CPT_EX'] = 'Yes'\n",
    "data.loc[data['OTHERCPT1'] == 22612, 'CPT_EX'] = 'Yes'\n",
    "data.loc[data['OTHERCPT1'] == 22630, 'CPT_EX'] = 'Yes'\n",
    "data.loc[data['OTHERCPT1'] == 22632, 'CPT_EX'] = 'Yes'\n",
    "data.loc[data['OTHERCPT1'] == 22633, 'CPT_EX'] = 'Yes'\n",
    "data.loc[data['OTHERCPT1'] == 22634, 'CPT_EX'] = 'Yes'\n",
    "data.loc[data['OTHERCPT1'] == 20680, 'CPT_EX'] = 'Yes'\n",
    "data.loc[data['OTHERCPT1'] == 22830, 'CPT_EX'] = 'Yes'\n",
    "data.loc[data['OTHERCPT1'] == 22849, 'CPT_EX'] = 'Yes'\n",
    "data.loc[data['OTHERCPT1'] == 22850, 'CPT_EX'] = 'Yes'\n",
    "data.loc[data['OTHERCPT1'] == 22852, 'CPT_EX'] = 'Yes'\n",
    "data.loc[data['OTHERCPT1'] == 22855, 'CPT_EX'] = 'Yes'\n",
    "data.loc[data['OTHERCPT1'] == 63300, 'CPT_EX'] = 'Yes'\n",
    "data.loc[data['OTHERCPT1'] == 63301, 'CPT_EX'] = 'Yes'\n",
    "data.loc[data['OTHERCPT1'] == 63304, 'CPT_EX'] = 'Yes'\n",
    "data.loc[data['OTHERCPT1'] == 63308, 'CPT_EX'] = 'Yes'\n",
    "\n",
    "data.loc[data['OTHERCPT2'] == 63075, 'CPT_EX'] = 'Yes'\n",
    "data.loc[data['OTHERCPT2'] == 22554, 'CPT_EX'] = 'Yes'\n",
    "data.loc[data['OTHERCPT2'] == 22585, 'CPT_EX'] = 'Yes'\n",
    "data.loc[data['OTHERCPT2'] == 22551, 'CPT_EX'] = 'Yes'\n",
    "data.loc[data['OTHERCPT2'] == 22552, 'CPT_EX'] = 'Yes'\n",
    "data.loc[data['OTHERCPT2'] == 22220, 'CPT_EX'] = 'Yes'\n",
    "data.loc[data['OTHERCPT2'] == 22556, 'CPT_EX'] = 'Yes'\n",
    "data.loc[data['OTHERCPT2'] == 22558, 'CPT_EX'] = 'Yes'\n",
    "data.loc[data['OTHERCPT2'] == 22610, 'CPT_EX'] = 'Yes'\n",
    "data.loc[data['OTHERCPT2'] == 22612, 'CPT_EX'] = 'Yes'\n",
    "data.loc[data['OTHERCPT2'] == 22630, 'CPT_EX'] = 'Yes'\n",
    "data.loc[data['OTHERCPT2'] == 22632, 'CPT_EX'] = 'Yes'\n",
    "data.loc[data['OTHERCPT2'] == 22633, 'CPT_EX'] = 'Yes'\n",
    "data.loc[data['OTHERCPT2'] == 22634, 'CPT_EX'] = 'Yes'\n",
    "data.loc[data['OTHERCPT2'] == 20680, 'CPT_EX'] = 'Yes'\n",
    "data.loc[data['OTHERCPT2'] == 22830, 'CPT_EX'] = 'Yes'\n",
    "data.loc[data['OTHERCPT2'] == 22849, 'CPT_EX'] = 'Yes'\n",
    "data.loc[data['OTHERCPT2'] == 22850, 'CPT_EX'] = 'Yes'\n",
    "data.loc[data['OTHERCPT2'] == 22852, 'CPT_EX'] = 'Yes'\n",
    "data.loc[data['OTHERCPT2'] == 22855, 'CPT_EX'] = 'Yes'\n",
    "data.loc[data['OTHERCPT2'] == 63300, 'CPT_EX'] = 'Yes'\n",
    "data.loc[data['OTHERCPT2'] == 63301, 'CPT_EX'] = 'Yes'\n",
    "data.loc[data['OTHERCPT2'] == 63304, 'CPT_EX'] = 'Yes'\n",
    "data.loc[data['OTHERCPT2'] == 63308, 'CPT_EX'] = 'Yes'\n",
    "\n",
    "data.loc[data['OTHERCPT3'] == 63075, 'CPT_EX'] = 'Yes'\n",
    "data.loc[data['OTHERCPT3'] == 22554, 'CPT_EX'] = 'Yes'\n",
    "data.loc[data['OTHERCPT3'] == 22585, 'CPT_EX'] = 'Yes'\n",
    "data.loc[data['OTHERCPT3'] == 22551, 'CPT_EX'] = 'Yes'\n",
    "data.loc[data['OTHERCPT3'] == 22552, 'CPT_EX'] = 'Yes'\n",
    "data.loc[data['OTHERCPT3'] == 22220, 'CPT_EX'] = 'Yes'\n",
    "data.loc[data['OTHERCPT3'] == 22556, 'CPT_EX'] = 'Yes'\n",
    "data.loc[data['OTHERCPT3'] == 22558, 'CPT_EX'] = 'Yes'\n",
    "data.loc[data['OTHERCPT3'] == 22610, 'CPT_EX'] = 'Yes'\n",
    "data.loc[data['OTHERCPT3'] == 22612, 'CPT_EX'] = 'Yes'\n",
    "data.loc[data['OTHERCPT3'] == 22630, 'CPT_EX'] = 'Yes'\n",
    "data.loc[data['OTHERCPT3'] == 22632, 'CPT_EX'] = 'Yes'\n",
    "data.loc[data['OTHERCPT3'] == 22633, 'CPT_EX'] = 'Yes'\n",
    "data.loc[data['OTHERCPT3'] == 22634, 'CPT_EX'] = 'Yes'\n",
    "data.loc[data['OTHERCPT3'] == 20680, 'CPT_EX'] = 'Yes'\n",
    "data.loc[data['OTHERCPT3'] == 22830, 'CPT_EX'] = 'Yes'\n",
    "data.loc[data['OTHERCPT3'] == 22849, 'CPT_EX'] = 'Yes'\n",
    "data.loc[data['OTHERCPT3'] == 22850, 'CPT_EX'] = 'Yes'\n",
    "data.loc[data['OTHERCPT3'] == 22852, 'CPT_EX'] = 'Yes'\n",
    "data.loc[data['OTHERCPT3'] == 22855, 'CPT_EX'] = 'Yes'\n",
    "data.loc[data['OTHERCPT3'] == 63300, 'CPT_EX'] = 'Yes'\n",
    "data.loc[data['OTHERCPT3'] == 63301, 'CPT_EX'] = 'Yes'\n",
    "data.loc[data['OTHERCPT3'] == 63304, 'CPT_EX'] = 'Yes'\n",
    "data.loc[data['OTHERCPT3'] == 63308, 'CPT_EX'] = 'Yes'\n",
    "\n",
    "data.loc[data['OTHERCPT4'] == 63075, 'CPT_EX'] = 'Yes'\n",
    "data.loc[data['OTHERCPT4'] == 22554, 'CPT_EX'] = 'Yes'\n",
    "data.loc[data['OTHERCPT4'] == 22585, 'CPT_EX'] = 'Yes'\n",
    "data.loc[data['OTHERCPT4'] == 22551, 'CPT_EX'] = 'Yes'\n",
    "data.loc[data['OTHERCPT4'] == 22552, 'CPT_EX'] = 'Yes'\n",
    "data.loc[data['OTHERCPT4'] == 22220, 'CPT_EX'] = 'Yes'\n",
    "data.loc[data['OTHERCPT4'] == 22556, 'CPT_EX'] = 'Yes'\n",
    "data.loc[data['OTHERCPT4'] == 22558, 'CPT_EX'] = 'Yes'\n",
    "data.loc[data['OTHERCPT4'] == 22610, 'CPT_EX'] = 'Yes'\n",
    "data.loc[data['OTHERCPT4'] == 22612, 'CPT_EX'] = 'Yes'\n",
    "data.loc[data['OTHERCPT4'] == 22630, 'CPT_EX'] = 'Yes'\n",
    "data.loc[data['OTHERCPT4'] == 22632, 'CPT_EX'] = 'Yes'\n",
    "data.loc[data['OTHERCPT4'] == 22633, 'CPT_EX'] = 'Yes'\n",
    "data.loc[data['OTHERCPT4'] == 22634, 'CPT_EX'] = 'Yes'\n",
    "data.loc[data['OTHERCPT4'] == 20680, 'CPT_EX'] = 'Yes'\n",
    "data.loc[data['OTHERCPT4'] == 22830, 'CPT_EX'] = 'Yes'\n",
    "data.loc[data['OTHERCPT4'] == 22849, 'CPT_EX'] = 'Yes'\n",
    "data.loc[data['OTHERCPT4'] == 22850, 'CPT_EX'] = 'Yes'\n",
    "data.loc[data['OTHERCPT4'] == 22852, 'CPT_EX'] = 'Yes'\n",
    "data.loc[data['OTHERCPT4'] == 22855, 'CPT_EX'] = 'Yes'\n",
    "data.loc[data['OTHERCPT4'] == 63300, 'CPT_EX'] = 'Yes'\n",
    "data.loc[data['OTHERCPT4'] == 63301, 'CPT_EX'] = 'Yes'\n",
    "data.loc[data['OTHERCPT4'] == 63304, 'CPT_EX'] = 'Yes'\n",
    "data.loc[data['OTHERCPT4'] == 63308, 'CPT_EX'] = 'Yes'\n",
    "\n",
    "data.loc[data['OTHERCPT5'] == 63075, 'CPT_EX'] = 'Yes'\n",
    "data.loc[data['OTHERCPT5'] == 22554, 'CPT_EX'] = 'Yes'\n",
    "data.loc[data['OTHERCPT5'] == 22585, 'CPT_EX'] = 'Yes'\n",
    "data.loc[data['OTHERCPT5'] == 22551, 'CPT_EX'] = 'Yes'\n",
    "data.loc[data['OTHERCPT5'] == 22552, 'CPT_EX'] = 'Yes'\n",
    "data.loc[data['OTHERCPT5'] == 22220, 'CPT_EX'] = 'Yes'\n",
    "data.loc[data['OTHERCPT5'] == 22556, 'CPT_EX'] = 'Yes'\n",
    "data.loc[data['OTHERCPT5'] == 22558, 'CPT_EX'] = 'Yes'\n",
    "data.loc[data['OTHERCPT5'] == 22610, 'CPT_EX'] = 'Yes'\n",
    "data.loc[data['OTHERCPT5'] == 22612, 'CPT_EX'] = 'Yes'\n",
    "data.loc[data['OTHERCPT5'] == 22630, 'CPT_EX'] = 'Yes'\n",
    "data.loc[data['OTHERCPT5'] == 22632, 'CPT_EX'] = 'Yes'\n",
    "data.loc[data['OTHERCPT5'] == 22633, 'CPT_EX'] = 'Yes'\n",
    "data.loc[data['OTHERCPT5'] == 22634, 'CPT_EX'] = 'Yes'\n",
    "data.loc[data['OTHERCPT5'] == 20680, 'CPT_EX'] = 'Yes'\n",
    "data.loc[data['OTHERCPT5'] == 22830, 'CPT_EX'] = 'Yes'\n",
    "data.loc[data['OTHERCPT5'] == 22849, 'CPT_EX'] = 'Yes'\n",
    "data.loc[data['OTHERCPT5'] == 22850, 'CPT_EX'] = 'Yes'\n",
    "data.loc[data['OTHERCPT5'] == 22852, 'CPT_EX'] = 'Yes'\n",
    "data.loc[data['OTHERCPT5'] == 22855, 'CPT_EX'] = 'Yes'\n",
    "data.loc[data['OTHERCPT5'] == 63300, 'CPT_EX'] = 'Yes'\n",
    "data.loc[data['OTHERCPT5'] == 63301, 'CPT_EX'] = 'Yes'\n",
    "data.loc[data['OTHERCPT5'] == 63304, 'CPT_EX'] = 'Yes'\n",
    "data.loc[data['OTHERCPT5'] == 63308, 'CPT_EX'] = 'Yes'\n",
    "\n",
    "data.loc[data['OTHERCPT6'] == 63075, 'CPT_EX'] = 'Yes'\n",
    "data.loc[data['OTHERCPT6'] == 22554, 'CPT_EX'] = 'Yes'\n",
    "data.loc[data['OTHERCPT6'] == 22585, 'CPT_EX'] = 'Yes'\n",
    "data.loc[data['OTHERCPT6'] == 22551, 'CPT_EX'] = 'Yes'\n",
    "data.loc[data['OTHERCPT6'] == 22552, 'CPT_EX'] = 'Yes'\n",
    "data.loc[data['OTHERCPT6'] == 22220, 'CPT_EX'] = 'Yes'\n",
    "data.loc[data['OTHERCPT6'] == 22556, 'CPT_EX'] = 'Yes'\n",
    "data.loc[data['OTHERCPT6'] == 22558, 'CPT_EX'] = 'Yes'\n",
    "data.loc[data['OTHERCPT6'] == 22610, 'CPT_EX'] = 'Yes'\n",
    "data.loc[data['OTHERCPT6'] == 22612, 'CPT_EX'] = 'Yes'\n",
    "data.loc[data['OTHERCPT6'] == 22630, 'CPT_EX'] = 'Yes'\n",
    "data.loc[data['OTHERCPT6'] == 22632, 'CPT_EX'] = 'Yes'\n",
    "data.loc[data['OTHERCPT6'] == 22633, 'CPT_EX'] = 'Yes'\n",
    "data.loc[data['OTHERCPT6'] == 22634, 'CPT_EX'] = 'Yes'\n",
    "data.loc[data['OTHERCPT6'] == 20680, 'CPT_EX'] = 'Yes'\n",
    "data.loc[data['OTHERCPT6'] == 22830, 'CPT_EX'] = 'Yes'\n",
    "data.loc[data['OTHERCPT6'] == 22849, 'CPT_EX'] = 'Yes'\n",
    "data.loc[data['OTHERCPT6'] == 22850, 'CPT_EX'] = 'Yes'\n",
    "data.loc[data['OTHERCPT6'] == 22852, 'CPT_EX'] = 'Yes'\n",
    "data.loc[data['OTHERCPT6'] == 22855, 'CPT_EX'] = 'Yes'\n",
    "data.loc[data['OTHERCPT6'] == 63300, 'CPT_EX'] = 'Yes'\n",
    "data.loc[data['OTHERCPT6'] == 63301, 'CPT_EX'] = 'Yes'\n",
    "data.loc[data['OTHERCPT6'] == 63304, 'CPT_EX'] = 'Yes'\n",
    "data.loc[data['OTHERCPT6'] == 63308, 'CPT_EX'] = 'Yes'\n",
    "\n",
    "data.loc[data['OTHERCPT7'] == 63075, 'CPT_EX'] = 'Yes'\n",
    "data.loc[data['OTHERCPT7'] == 22554, 'CPT_EX'] = 'Yes'\n",
    "data.loc[data['OTHERCPT7'] == 22585, 'CPT_EX'] = 'Yes'\n",
    "data.loc[data['OTHERCPT7'] == 22551, 'CPT_EX'] = 'Yes'\n",
    "data.loc[data['OTHERCPT7'] == 22552, 'CPT_EX'] = 'Yes'\n",
    "data.loc[data['OTHERCPT7'] == 22220, 'CPT_EX'] = 'Yes'\n",
    "data.loc[data['OTHERCPT7'] == 22556, 'CPT_EX'] = 'Yes'\n",
    "data.loc[data['OTHERCPT7'] == 22558, 'CPT_EX'] = 'Yes'\n",
    "data.loc[data['OTHERCPT7'] == 22610, 'CPT_EX'] = 'Yes'\n",
    "data.loc[data['OTHERCPT7'] == 22612, 'CPT_EX'] = 'Yes'\n",
    "data.loc[data['OTHERCPT7'] == 22630, 'CPT_EX'] = 'Yes'\n",
    "data.loc[data['OTHERCPT7'] == 22632, 'CPT_EX'] = 'Yes'\n",
    "data.loc[data['OTHERCPT7'] == 22633, 'CPT_EX'] = 'Yes'\n",
    "data.loc[data['OTHERCPT7'] == 22634, 'CPT_EX'] = 'Yes'\n",
    "data.loc[data['OTHERCPT7'] == 20680, 'CPT_EX'] = 'Yes'\n",
    "data.loc[data['OTHERCPT7'] == 22830, 'CPT_EX'] = 'Yes'\n",
    "data.loc[data['OTHERCPT7'] == 22849, 'CPT_EX'] = 'Yes'\n",
    "data.loc[data['OTHERCPT7'] == 22850, 'CPT_EX'] = 'Yes'\n",
    "data.loc[data['OTHERCPT7'] == 22852, 'CPT_EX'] = 'Yes'\n",
    "data.loc[data['OTHERCPT7'] == 22855, 'CPT_EX'] = 'Yes'\n",
    "data.loc[data['OTHERCPT7'] == 63300, 'CPT_EX'] = 'Yes'\n",
    "data.loc[data['OTHERCPT7'] == 63301, 'CPT_EX'] = 'Yes'\n",
    "data.loc[data['OTHERCPT7'] == 63304, 'CPT_EX'] = 'Yes'\n",
    "data.loc[data['OTHERCPT7'] == 63308, 'CPT_EX'] = 'Yes'\n",
    "\n",
    "data.loc[data['OTHERCPT8'] == 63075, 'CPT_EX'] = 'Yes'\n",
    "data.loc[data['OTHERCPT8'] == 22554, 'CPT_EX'] = 'Yes'\n",
    "data.loc[data['OTHERCPT8'] == 22585, 'CPT_EX'] = 'Yes'\n",
    "data.loc[data['OTHERCPT8'] == 22551, 'CPT_EX'] = 'Yes'\n",
    "data.loc[data['OTHERCPT8'] == 22552, 'CPT_EX'] = 'Yes'\n",
    "data.loc[data['OTHERCPT8'] == 22220, 'CPT_EX'] = 'Yes'\n",
    "data.loc[data['OTHERCPT8'] == 22556, 'CPT_EX'] = 'Yes'\n",
    "data.loc[data['OTHERCPT8'] == 22558, 'CPT_EX'] = 'Yes'\n",
    "data.loc[data['OTHERCPT8'] == 22610, 'CPT_EX'] = 'Yes'\n",
    "data.loc[data['OTHERCPT8'] == 22612, 'CPT_EX'] = 'Yes'\n",
    "data.loc[data['OTHERCPT8'] == 22630, 'CPT_EX'] = 'Yes'\n",
    "data.loc[data['OTHERCPT8'] == 22632, 'CPT_EX'] = 'Yes'\n",
    "data.loc[data['OTHERCPT8'] == 22633, 'CPT_EX'] = 'Yes'\n",
    "data.loc[data['OTHERCPT8'] == 22634, 'CPT_EX'] = 'Yes'\n",
    "data.loc[data['OTHERCPT8'] == 20680, 'CPT_EX'] = 'Yes'\n",
    "data.loc[data['OTHERCPT8'] == 22830, 'CPT_EX'] = 'Yes'\n",
    "data.loc[data['OTHERCPT8'] == 22849, 'CPT_EX'] = 'Yes'\n",
    "data.loc[data['OTHERCPT8'] == 22850, 'CPT_EX'] = 'Yes'\n",
    "data.loc[data['OTHERCPT8'] == 22852, 'CPT_EX'] = 'Yes'\n",
    "data.loc[data['OTHERCPT8'] == 22855, 'CPT_EX'] = 'Yes'\n",
    "data.loc[data['OTHERCPT8'] == 63300, 'CPT_EX'] = 'Yes'\n",
    "data.loc[data['OTHERCPT8'] == 63301, 'CPT_EX'] = 'Yes'\n",
    "data.loc[data['OTHERCPT8'] == 63304, 'CPT_EX'] = 'Yes'\n",
    "data.loc[data['OTHERCPT8'] == 63308, 'CPT_EX'] = 'Yes'\n",
    "\n",
    "data.loc[data['OTHERCPT9'] == 63075, 'CPT_EX'] = 'Yes'\n",
    "data.loc[data['OTHERCPT9'] == 22554, 'CPT_EX'] = 'Yes'\n",
    "data.loc[data['OTHERCPT9'] == 22585, 'CPT_EX'] = 'Yes'\n",
    "data.loc[data['OTHERCPT9'] == 22551, 'CPT_EX'] = 'Yes'\n",
    "data.loc[data['OTHERCPT9'] == 22552, 'CPT_EX'] = 'Yes'\n",
    "data.loc[data['OTHERCPT9'] == 22220, 'CPT_EX'] = 'Yes'\n",
    "data.loc[data['OTHERCPT9'] == 22556, 'CPT_EX'] = 'Yes'\n",
    "data.loc[data['OTHERCPT9'] == 22558, 'CPT_EX'] = 'Yes'\n",
    "data.loc[data['OTHERCPT9'] == 22610, 'CPT_EX'] = 'Yes'\n",
    "data.loc[data['OTHERCPT9'] == 22612, 'CPT_EX'] = 'Yes'\n",
    "data.loc[data['OTHERCPT9'] == 22630, 'CPT_EX'] = 'Yes'\n",
    "data.loc[data['OTHERCPT9'] == 22632, 'CPT_EX'] = 'Yes'\n",
    "data.loc[data['OTHERCPT9'] == 22633, 'CPT_EX'] = 'Yes'\n",
    "data.loc[data['OTHERCPT9'] == 22634, 'CPT_EX'] = 'Yes'\n",
    "data.loc[data['OTHERCPT9'] == 20680, 'CPT_EX'] = 'Yes'\n",
    "data.loc[data['OTHERCPT9'] == 22830, 'CPT_EX'] = 'Yes'\n",
    "data.loc[data['OTHERCPT9'] == 22849, 'CPT_EX'] = 'Yes'\n",
    "data.loc[data['OTHERCPT9'] == 22850, 'CPT_EX'] = 'Yes'\n",
    "data.loc[data['OTHERCPT9'] == 22852, 'CPT_EX'] = 'Yes'\n",
    "data.loc[data['OTHERCPT9'] == 22855, 'CPT_EX'] = 'Yes'\n",
    "data.loc[data['OTHERCPT9'] == 63300, 'CPT_EX'] = 'Yes'\n",
    "data.loc[data['OTHERCPT9'] == 63301, 'CPT_EX'] = 'Yes'\n",
    "data.loc[data['OTHERCPT9'] == 63304, 'CPT_EX'] = 'Yes'\n",
    "data.loc[data['OTHERCPT9'] == 63308, 'CPT_EX'] = 'Yes'\n",
    "\n",
    "data.loc[data['OTHERCPT10'] == 63075, 'CPT_EX'] = 'Yes'\n",
    "data.loc[data['OTHERCPT10'] == 22554, 'CPT_EX'] = 'Yes'\n",
    "data.loc[data['OTHERCPT10'] == 22585, 'CPT_EX'] = 'Yes'\n",
    "data.loc[data['OTHERCPT10'] == 22551, 'CPT_EX'] = 'Yes'\n",
    "data.loc[data['OTHERCPT10'] == 22552, 'CPT_EX'] = 'Yes'\n",
    "data.loc[data['OTHERCPT10'] == 22220, 'CPT_EX'] = 'Yes'\n",
    "data.loc[data['OTHERCPT10'] == 22556, 'CPT_EX'] = 'Yes'\n",
    "data.loc[data['OTHERCPT10'] == 22558, 'CPT_EX'] = 'Yes'\n",
    "data.loc[data['OTHERCPT10'] == 22610, 'CPT_EX'] = 'Yes'\n",
    "data.loc[data['OTHERCPT10'] == 22612, 'CPT_EX'] = 'Yes'\n",
    "data.loc[data['OTHERCPT10'] == 22630, 'CPT_EX'] = 'Yes'\n",
    "data.loc[data['OTHERCPT10'] == 22632, 'CPT_EX'] = 'Yes'\n",
    "data.loc[data['OTHERCPT10'] == 22633, 'CPT_EX'] = 'Yes'\n",
    "data.loc[data['OTHERCPT10'] == 22634, 'CPT_EX'] = 'Yes'\n",
    "data.loc[data['OTHERCPT10'] == 20680, 'CPT_EX'] = 'Yes'\n",
    "data.loc[data['OTHERCPT10'] == 22830, 'CPT_EX'] = 'Yes'\n",
    "data.loc[data['OTHERCPT10'] == 22849, 'CPT_EX'] = 'Yes'\n",
    "data.loc[data['OTHERCPT10'] == 22850, 'CPT_EX'] = 'Yes'\n",
    "data.loc[data['OTHERCPT10'] == 22852, 'CPT_EX'] = 'Yes'\n",
    "data.loc[data['OTHERCPT10'] == 22855, 'CPT_EX'] = 'Yes'\n",
    "data.loc[data['OTHERCPT10'] == 63300, 'CPT_EX'] = 'Yes'\n",
    "data.loc[data['OTHERCPT10'] == 63301, 'CPT_EX'] = 'Yes'\n",
    "data.loc[data['OTHERCPT10'] == 63304, 'CPT_EX'] = 'Yes'\n",
    "data.loc[data['OTHERCPT10'] == 63308, 'CPT_EX'] = 'Yes'\n",
    "\n",
    "data.loc[data['CPT_EX'] != 'Yes', 'CPT_EX'] = 'No'\n",
    "\n",
    "data['CPT_EX'].value_counts(dropna=False)"
   ]
  },
  {
   "cell_type": "code",
   "execution_count": null,
   "id": "8KKrPQHK9Uz4",
   "metadata": {
    "colab": {
     "base_uri": "https://localhost:8080/"
    },
    "executionInfo": {
     "elapsed": 19,
     "status": "ok",
     "timestamp": 1669317180080,
     "user": {
      "displayName": "Mert Karabacak",
      "userId": "14308977132914475412"
     },
     "user_tz": 300
    },
    "id": "8KKrPQHK9Uz4",
    "outputId": "fb0eb867-d74e-446c-f787-e76b7a7a9ef7"
   },
   "outputs": [],
   "source": [
    "#Exclude patients with CPT codes that were assigned to be excluding.\n",
    "\n",
    "data = data[(data['CPT_EX'] == 'No')]\n",
    "\n",
    "data['CPT_EX'].value_counts(normalize=False, dropna=False)"
   ]
  },
  {
   "cell_type": "code",
   "execution_count": null,
   "id": "6c426cf1-c714-425d-b996-38a92517dcd3",
   "metadata": {
    "colab": {
     "base_uri": "https://localhost:8080/"
    },
    "executionInfo": {
     "elapsed": 16,
     "status": "ok",
     "timestamp": 1669317180080,
     "user": {
      "displayName": "Mert Karabacak",
      "userId": "14308977132914475412"
     },
     "user_tz": 300
    },
    "id": "6c426cf1-c714-425d-b996-38a92517dcd3",
    "outputId": "90b444a1-cd49-4a0b-9305-f59bf647ad73",
    "tags": []
   },
   "outputs": [],
   "source": [
    "#Check data for elective surgeries.\n",
    "\n",
    "data['ELECTSURG'].value_counts(normalize=False, dropna=False)"
   ]
  },
  {
   "cell_type": "code",
   "execution_count": null,
   "id": "66c0ac20",
   "metadata": {
    "colab": {
     "base_uri": "https://localhost:8080/"
    },
    "executionInfo": {
     "elapsed": 16,
     "status": "ok",
     "timestamp": 1669317180081,
     "user": {
      "displayName": "Mert Karabacak",
      "userId": "14308977132914475412"
     },
     "user_tz": 300
    },
    "id": "66c0ac20",
    "outputId": "37288069-05bc-405c-85d6-702a6146115f"
   },
   "outputs": [],
   "source": [
    "#Apply inclusion criteria for elective surgeries.\n",
    "\n",
    "data = data[(data['ELECTSURG'] == 'Yes')]\n",
    "\n",
    "data['ELECTSURG'].value_counts(normalize=False, dropna=False)"
   ]
  },
  {
   "cell_type": "code",
   "execution_count": null,
   "id": "88c16422",
   "metadata": {
    "colab": {
     "base_uri": "https://localhost:8080/"
    },
    "executionInfo": {
     "elapsed": 15,
     "status": "ok",
     "timestamp": 1669317180081,
     "user": {
      "displayName": "Mert Karabacak",
      "userId": "14308977132914475412"
     },
     "user_tz": 300
    },
    "id": "88c16422",
    "outputId": "0a7f21ec-b786-4e56-a539-5dd3b0c7b638"
   },
   "outputs": [],
   "source": [
    "#Check data for emergency surgery.\n",
    "\n",
    "data['EMERGNCY'].value_counts(normalize=False, dropna=False)"
   ]
  },
  {
   "cell_type": "code",
   "execution_count": null,
   "id": "bb4d527c",
   "metadata": {
    "colab": {
     "base_uri": "https://localhost:8080/"
    },
    "executionInfo": {
     "elapsed": 14,
     "status": "ok",
     "timestamp": 1669317180081,
     "user": {
      "displayName": "Mert Karabacak",
      "userId": "14308977132914475412"
     },
     "user_tz": 300
    },
    "id": "bb4d527c",
    "outputId": "84a65e46-2888-4084-c721-5c0663b1d76f"
   },
   "outputs": [],
   "source": [
    "#Apply exclusion criteria for emergency surgery.\n",
    "\n",
    "data = data[(data['EMERGNCY'] == 'No')]\n",
    "\n",
    "data['EMERGNCY'].value_counts(normalize=False, dropna=False)"
   ]
  },
  {
   "cell_type": "code",
   "execution_count": null,
   "id": "81efedf4",
   "metadata": {
    "colab": {
     "base_uri": "https://localhost:8080/"
    },
    "executionInfo": {
     "elapsed": 12,
     "status": "ok",
     "timestamp": 1669317180081,
     "user": {
      "displayName": "Mert Karabacak",
      "userId": "14308977132914475412"
     },
     "user_tz": 300
    },
    "id": "81efedf4",
    "outputId": "791f027d-ad3a-423c-a901-a1ae35a93b1d",
    "tags": []
   },
   "outputs": [],
   "source": [
    "#Check data for anesthesia type.\n",
    "\n",
    "data['ANESTHES'].value_counts(normalize=False, dropna=False)"
   ]
  },
  {
   "cell_type": "code",
   "execution_count": null,
   "id": "056878f5",
   "metadata": {
    "colab": {
     "base_uri": "https://localhost:8080/"
    },
    "executionInfo": {
     "elapsed": 12,
     "status": "ok",
     "timestamp": 1669317180082,
     "user": {
      "displayName": "Mert Karabacak",
      "userId": "14308977132914475412"
     },
     "user_tz": 300
    },
    "id": "056878f5",
    "outputId": "6c857e77-d53f-477c-9f79-db83bace29cd"
   },
   "outputs": [],
   "source": [
    "#Apply inclusion criteria for general anesthesia.\n",
    "\n",
    "data = data[(data['ANESTHES'] == 'General')]\n",
    "\n",
    "data['ANESTHES'].value_counts(normalize=False, dropna=False)"
   ]
  },
  {
   "cell_type": "code",
   "execution_count": null,
   "id": "120235be",
   "metadata": {
    "colab": {
     "base_uri": "https://localhost:8080/"
    },
    "executionInfo": {
     "elapsed": 11,
     "status": "ok",
     "timestamp": 1669317180082,
     "user": {
      "displayName": "Mert Karabacak",
      "userId": "14308977132914475412"
     },
     "user_tz": 300
    },
    "id": "120235be",
    "outputId": "edbf9a6d-880b-4473-cf05-5be3fa81bdb3"
   },
   "outputs": [],
   "source": [
    "#Check data for surgical specialties.\n",
    "\n",
    "data['SURGSPEC'].value_counts(normalize=False, dropna=False)"
   ]
  },
  {
   "cell_type": "code",
   "execution_count": null,
   "id": "7cf0695f",
   "metadata": {
    "colab": {
     "base_uri": "https://localhost:8080/"
    },
    "executionInfo": {
     "elapsed": 10,
     "status": "ok",
     "timestamp": 1669317180082,
     "user": {
      "displayName": "Mert Karabacak",
      "userId": "14308977132914475412"
     },
     "user_tz": 300
    },
    "id": "7cf0695f",
    "outputId": "71657dcf-829f-4e6c-bad8-64a63eff452f"
   },
   "outputs": [],
   "source": [
    "#Apply inclusion criteria for surgical specialties.\n",
    "\n",
    "data = data[(data['SURGSPEC'] == 'Neurosurgery') | (data['SURGSPEC'] == 'Orthopedics')]\n",
    "\n",
    "data['SURGSPEC'].value_counts(normalize=False, dropna=False)"
   ]
  },
  {
   "cell_type": "code",
   "execution_count": null,
   "id": "a4d5b647",
   "metadata": {
    "colab": {
     "base_uri": "https://localhost:8080/"
    },
    "executionInfo": {
     "elapsed": 9,
     "status": "ok",
     "timestamp": 1669317180082,
     "user": {
      "displayName": "Mert Karabacak",
      "userId": "14308977132914475412"
     },
     "user_tz": 300
    },
    "id": "a4d5b647",
    "outputId": "6227a230-3500-49be-cf31-cc52c34ac9c8"
   },
   "outputs": [],
   "source": [
    "#Check data for wound class.\n",
    "\n",
    "data['WNDCLAS'].value_counts(normalize=False, dropna=False)"
   ]
  },
  {
   "cell_type": "code",
   "execution_count": null,
   "id": "b6d72d44",
   "metadata": {
    "colab": {
     "base_uri": "https://localhost:8080/"
    },
    "executionInfo": {
     "elapsed": 8,
     "status": "ok",
     "timestamp": 1669317180082,
     "user": {
      "displayName": "Mert Karabacak",
      "userId": "14308977132914475412"
     },
     "user_tz": 300
    },
    "id": "b6d72d44",
    "outputId": "5a6aebbc-acdb-41b4-be55-1db8fc87dfdc"
   },
   "outputs": [],
   "source": [
    "#Apply exclusion criteria for wound class.\n",
    "\n",
    "data = data[(data['WNDCLAS'] == '1-Clean')]\n",
    "\n",
    "data['WNDCLAS'].value_counts(normalize=False, dropna=False)"
   ]
  },
  {
   "cell_type": "code",
   "execution_count": null,
   "id": "3e61433b",
   "metadata": {
    "colab": {
     "base_uri": "https://localhost:8080/"
    },
    "executionInfo": {
     "elapsed": 7,
     "status": "ok",
     "timestamp": 1669317180083,
     "user": {
      "displayName": "Mert Karabacak",
      "userId": "14308977132914475412"
     },
     "user_tz": 300
    },
    "id": "3e61433b",
    "outputId": "fae20fd8-6ee9-44f8-fcbe-e8712415608b"
   },
   "outputs": [],
   "source": [
    "#Check data for preoperative sepsis.\n",
    "\n",
    "data['PRSEPIS'].value_counts(normalize=False, dropna=False)"
   ]
  },
  {
   "cell_type": "code",
   "execution_count": null,
   "id": "78f75891",
   "metadata": {
    "colab": {
     "base_uri": "https://localhost:8080/"
    },
    "executionInfo": {
     "elapsed": 673,
     "status": "ok",
     "timestamp": 1669317180750,
     "user": {
      "displayName": "Mert Karabacak",
      "userId": "14308977132914475412"
     },
     "user_tz": 300
    },
    "id": "78f75891",
    "outputId": "05ded3cf-e53d-465e-9252-f3384b260981"
   },
   "outputs": [],
   "source": [
    "#Apply exclusion criteria for preoperative sepsis.\n",
    "\n",
    "data = data[(data['PRSEPIS'] == 'None')]\n",
    "\n",
    "data['PRSEPIS'].value_counts(normalize=False, dropna=False)"
   ]
  },
  {
   "cell_type": "code",
   "execution_count": null,
   "id": "d00834fd",
   "metadata": {
    "colab": {
     "base_uri": "https://localhost:8080/"
    },
    "executionInfo": {
     "elapsed": 166,
     "status": "ok",
     "timestamp": 1669317180750,
     "user": {
      "displayName": "Mert Karabacak",
      "userId": "14308977132914475412"
     },
     "user_tz": 300
    },
    "id": "d00834fd",
    "outputId": "60a8da94-d600-4a3b-8a00-a696b04f1f7c"
   },
   "outputs": [],
   "source": [
    "#Check data for ASA Class.\n",
    "\n",
    "data['ASACLAS'].value_counts(normalize=False, dropna=False)"
   ]
  },
  {
   "cell_type": "code",
   "execution_count": null,
   "id": "3e51b8d4",
   "metadata": {
    "colab": {
     "base_uri": "https://localhost:8080/"
    },
    "executionInfo": {
     "elapsed": 164,
     "status": "ok",
     "timestamp": 1669317180750,
     "user": {
      "displayName": "Mert Karabacak",
      "userId": "14308977132914475412"
     },
     "user_tz": 300
    },
    "id": "3e51b8d4",
    "outputId": "b8f38314-2f8f-4797-8340-6bff2a792568"
   },
   "outputs": [],
   "source": [
    "#Apply exclusion criteria for ASA class.\n",
    "\n",
    "data = data[(data['ASACLAS'] != '4-Life Threat') & (data['ASACLAS'] != '5-Moribund') & (data['ASACLAS'] != 'None assigned')]\n",
    "\n",
    "data['ASACLAS'].value_counts(normalize=False, dropna=False)"
   ]
  },
  {
   "cell_type": "code",
   "execution_count": null,
   "id": "ab9d9c55",
   "metadata": {
    "colab": {
     "base_uri": "https://localhost:8080/"
    },
    "executionInfo": {
     "elapsed": 164,
     "status": "ok",
     "timestamp": 1669317180751,
     "user": {
      "displayName": "Mert Karabacak",
      "userId": "14308977132914475412"
     },
     "user_tz": 300
    },
    "id": "ab9d9c55",
    "outputId": "827fd413-5e68-48c7-f890-162be4551220"
   },
   "outputs": [],
   "source": [
    "#Create BMI column.\n",
    "\n",
    "lbs_to_kg_ratio = 0.453592\n",
    "inch_to_meter_ratio = 0.0254\n",
    "\n",
    "data['HEIGHT'] *= inch_to_meter_ratio\n",
    "data['WEIGHT'] *= lbs_to_kg_ratio\n",
    "\n",
    "data['BMI'] = data['WEIGHT']/(data['HEIGHT']**2)\n",
    "print(min(data['BMI']))\n",
    "print(max(data['BMI']))"
   ]
  },
  {
   "cell_type": "code",
   "execution_count": null,
   "id": "fbf1c8ec",
   "metadata": {
    "colab": {
     "base_uri": "https://localhost:8080/"
    },
    "executionInfo": {
     "elapsed": 163,
     "status": "ok",
     "timestamp": 1669317180751,
     "user": {
      "displayName": "Mert Karabacak",
      "userId": "14308977132914475412"
     },
     "user_tz": 300
    },
    "id": "fbf1c8ec",
    "outputId": "8873ee06-6871-49a3-d80b-bdf8172f82ab"
   },
   "outputs": [],
   "source": [
    "#Check data for race.\n",
    "\n",
    "data['RACE_NEW'].value_counts(normalize=False, dropna=False)"
   ]
  },
  {
   "cell_type": "code",
   "execution_count": null,
   "id": "58a7a358",
   "metadata": {
    "colab": {
     "base_uri": "https://localhost:8080/"
    },
    "executionInfo": {
     "elapsed": 162,
     "status": "ok",
     "timestamp": 1669317180751,
     "user": {
      "displayName": "Mert Karabacak",
      "userId": "14308977132914475412"
     },
     "user_tz": 300
    },
    "id": "58a7a358",
    "outputId": "d706f2c0-85df-4344-e159-e013c1e727ab"
   },
   "outputs": [],
   "source": [
    "#Check data for ethnicity.\n",
    "\n",
    "data['ETHNICITY_HISPANIC'].value_counts(normalize=False, dropna=False)"
   ]
  },
  {
   "cell_type": "code",
   "execution_count": null,
   "id": "edfeff13",
   "metadata": {
    "colab": {
     "base_uri": "https://localhost:8080/"
    },
    "executionInfo": {
     "elapsed": 160,
     "status": "ok",
     "timestamp": 1669317180751,
     "user": {
      "displayName": "Mert Karabacak",
      "userId": "14308977132914475412"
     },
     "user_tz": 300
    },
    "id": "edfeff13",
    "outputId": "1110746c-bbc9-4ee0-d8ab-d7f8bc9c49b2"
   },
   "outputs": [],
   "source": [
    "#Simplify race and ethnicity columns.\n",
    "\n",
    "data.loc[data['RACE_NEW'] == 'White', 'RACE'] = 'White'\n",
    "data.loc[data['RACE_NEW'] == 'Black or African American', 'RACE'] = 'Black or African American'\n",
    "data.loc[data['RACE_NEW'] == 'Asian', 'RACE'] = 'Asian'\n",
    "data.loc[data['RACE_NEW'] == 'American Indian or Alaska Native', 'RACE'] = 'Other'\n",
    "data.loc[data['RACE_NEW'] == 'Native Hawaiian or Other Pacific Islander', 'RACE'] = 'Other'\n",
    "data.loc[data['RACE_NEW'] == 'Native Hawaiian or Pacific Islander', 'RACE'] = 'Other'\n",
    "data.loc[data['RACE_NEW'] == 'Some Other Race', 'RACE'] = 'Other'\n",
    "\n",
    "data.loc[data['ETHNICITY_HISPANIC'] == 'Yes', 'RACE'] = 'Hispanic'\n",
    "\n",
    "data['RACE'].value_counts(normalize=False, dropna=False)"
   ]
  },
  {
   "cell_type": "code",
   "execution_count": null,
   "id": "058b3c3d",
   "metadata": {
    "colab": {
     "base_uri": "https://localhost:8080/"
    },
    "executionInfo": {
     "elapsed": 160,
     "status": "ok",
     "timestamp": 1669317180752,
     "user": {
      "displayName": "Mert Karabacak",
      "userId": "14308977132914475412"
     },
     "user_tz": 300
    },
    "id": "058b3c3d",
    "outputId": "b3ff5e56-9619-413f-d5ba-c310d5f3d9e6"
   },
   "outputs": [],
   "source": [
    "#Check data for transfer status.\n",
    "\n",
    "data['TRANST'].value_counts(normalize=False, dropna=False)"
   ]
  },
  {
   "cell_type": "code",
   "execution_count": null,
   "id": "c3af9dc4",
   "metadata": {
    "colab": {
     "base_uri": "https://localhost:8080/"
    },
    "executionInfo": {
     "elapsed": 159,
     "status": "ok",
     "timestamp": 1669317180752,
     "user": {
      "displayName": "Mert Karabacak",
      "userId": "14308977132914475412"
     },
     "user_tz": 300
    },
    "id": "c3af9dc4",
    "outputId": "543af974-938c-43bd-ac7d-89e6175c6094"
   },
   "outputs": [],
   "source": [
    "#Simplify transfer status column.\n",
    "\n",
    "data.loc[data['TRANST'] == 'Not transferred (admitted from home)', 'TRANST'] = 'Not transferred'\n",
    "data.loc[data['TRANST'] == 'Nursing home - Chronic care - Intermediate care', 'TRANST'] = 'Transferred'\n",
    "data.loc[data['TRANST'] == 'From acute care hospital inpatient', 'TRANST'] = 'Transferred'\n",
    "data.loc[data['TRANST'] == 'Outside emergency department', 'TRANST'] = 'Transferred'\n",
    "data.loc[data['TRANST'] == 'Transfer from other', 'TRANST'] = 'Transferred'\n",
    "\n",
    "data['TRANST'].value_counts(normalize=False, dropna=False)"
   ]
  },
  {
   "cell_type": "code",
   "execution_count": null,
   "id": "ba88fac8",
   "metadata": {
    "colab": {
     "base_uri": "https://localhost:8080/"
    },
    "executionInfo": {
     "elapsed": 158,
     "status": "ok",
     "timestamp": 1669317180752,
     "user": {
      "displayName": "Mert Karabacak",
      "userId": "14308977132914475412"
     },
     "user_tz": 300
    },
    "id": "ba88fac8",
    "outputId": "432ffb68-0e09-451d-90e2-862ad6bc3271"
   },
   "outputs": [],
   "source": [
    "#Check data for dyspnea.\n",
    "\n",
    "data['DYSPNEA'].value_counts(normalize=False, dropna=False)"
   ]
  },
  {
   "cell_type": "code",
   "execution_count": null,
   "id": "5557e3e3",
   "metadata": {
    "colab": {
     "base_uri": "https://localhost:8080/"
    },
    "executionInfo": {
     "elapsed": 158,
     "status": "ok",
     "timestamp": 1669317180753,
     "user": {
      "displayName": "Mert Karabacak",
      "userId": "14308977132914475412"
     },
     "user_tz": 300
    },
    "id": "5557e3e3",
    "outputId": "a22b8669-b4e1-4702-b2fd-35a6a1badb35"
   },
   "outputs": [],
   "source": [
    "#Simplify dyspnea column.\n",
    "\n",
    "data.loc[data['DYSPNEA'] == 'No', 'DYSPNEA'] = 'No'\n",
    "data.loc[data['DYSPNEA'] == 'MODERATE EXERTION', 'DYSPNEA'] = 'Yes'\n",
    "data.loc[data['DYSPNEA'] == 'AT REST', 'DYSPNEA'] = 'Yes'\n",
    "\n",
    "data['DYSPNEA'].value_counts(normalize=False, dropna=False)"
   ]
  },
  {
   "cell_type": "code",
   "execution_count": null,
   "id": "238ad170",
   "metadata": {
    "colab": {
     "base_uri": "https://localhost:8080/"
    },
    "executionInfo": {
     "elapsed": 156,
     "status": "ok",
     "timestamp": 1669317180753,
     "user": {
      "displayName": "Mert Karabacak",
      "userId": "14308977132914475412"
     },
     "user_tz": 300
    },
    "id": "238ad170",
    "outputId": "a26946d5-0109-4ddc-f5cc-a5cf81b5a0c4"
   },
   "outputs": [],
   "source": [
    "#Check data for diabetes status.\n",
    "\n",
    "data['DIABETES'].value_counts(normalize=False, dropna=False)"
   ]
  },
  {
   "cell_type": "code",
   "execution_count": null,
   "id": "d0378434",
   "metadata": {
    "colab": {
     "base_uri": "https://localhost:8080/"
    },
    "executionInfo": {
     "elapsed": 155,
     "status": "ok",
     "timestamp": 1669317180753,
     "user": {
      "displayName": "Mert Karabacak",
      "userId": "14308977132914475412"
     },
     "user_tz": 300
    },
    "id": "d0378434",
    "outputId": "73d5976e-a9d1-43ca-ab29-1971bea2f134"
   },
   "outputs": [],
   "source": [
    "#Simplify diabetes column.\n",
    "\n",
    "data.loc[data['DIABETES'] == 'NO', 'DIABETES'] = 'No'\n",
    "data.loc[data['DIABETES'] == 'NON-INSULIN', 'DIABETES'] = 'Yes'\n",
    "data.loc[data['DIABETES'] == 'INSULIN', 'DIABETES'] = 'Yes'\n",
    "\n",
    "data['DIABETES'].value_counts(normalize=False, dropna=False)"
   ]
  },
  {
   "cell_type": "code",
   "execution_count": null,
   "id": "2aca45cc",
   "metadata": {
    "colab": {
     "base_uri": "https://localhost:8080/"
    },
    "executionInfo": {
     "elapsed": 154,
     "status": "ok",
     "timestamp": 1669317180753,
     "user": {
      "displayName": "Mert Karabacak",
      "userId": "14308977132914475412"
     },
     "user_tz": 300
    },
    "id": "2aca45cc",
    "outputId": "8e802682-faa8-482d-f225-fea9e0b70749"
   },
   "outputs": [],
   "source": [
    "#Cast ASA class as ordered categorical.\n",
    "\n",
    "cat_type1 = CategoricalDtype(categories=['1-No Disturb','2-Mild Disturb','3-Severe Disturb'], ordered=True)\n",
    "data['ASACLAS'].astype(cat_type1)"
   ]
  },
  {
   "cell_type": "code",
   "execution_count": null,
   "id": "19fb0646",
   "metadata": {
    "colab": {
     "base_uri": "https://localhost:8080/"
    },
    "executionInfo": {
     "elapsed": 151,
     "status": "ok",
     "timestamp": 1669317180754,
     "user": {
      "displayName": "Mert Karabacak",
      "userId": "14308977132914475412"
     },
     "user_tz": 300
    },
    "id": "19fb0646",
    "outputId": "5060ab9f-cab9-4807-8ef1-970317672ed3"
   },
   "outputs": [],
   "source": [
    "#Cast functional status as ordered categorical.\n",
    "\n",
    "cat_type2 = CategoricalDtype(categories=['Unknown','Independent','Partiallly Dependent', 'Totally Dependent'], ordered=True)\n",
    "data['FNSTATUS2'].astype(cat_type2)"
   ]
  },
  {
   "cell_type": "code",
   "execution_count": null,
   "id": "9fb66caf",
   "metadata": {
    "executionInfo": {
     "elapsed": 90,
     "status": "ok",
     "timestamp": 1669317180754,
     "user": {
      "displayName": "Mert Karabacak",
      "userId": "14308977132914475412"
     },
     "user_tz": 300
    },
    "id": "9fb66caf"
   },
   "outputs": [],
   "source": [
    "#Convert 90+ to 91 and AGE column to integer.\n",
    "\n",
    "data.loc[data['AGE'] == '90+', 'AGE'] = 91\n",
    "data['AGE'] = pd.to_numeric(data['AGE'], downcast='integer')"
   ]
  },
  {
   "cell_type": "code",
   "execution_count": null,
   "id": "ace8b0df",
   "metadata": {
    "colab": {
     "base_uri": "https://localhost:8080/"
    },
    "executionInfo": {
     "elapsed": 89,
     "status": "ok",
     "timestamp": 1669317180754,
     "user": {
      "displayName": "Mert Karabacak",
      "userId": "14308977132914475412"
     },
     "user_tz": 300
    },
    "id": "ace8b0df",
    "outputId": "3326d483-49c9-4ab2-9860-420b2646a775"
   },
   "outputs": [],
   "source": [
    "#Show patients for each CPT code.\n",
    "\n",
    "data['CPT'].value_counts()"
   ]
  },
  {
   "cell_type": "code",
   "execution_count": null,
   "id": "2c7063b3",
   "metadata": {
    "colab": {
     "base_uri": "https://localhost:8080/"
    },
    "executionInfo": {
     "elapsed": 24,
     "status": "ok",
     "timestamp": 1669317180755,
     "user": {
      "displayName": "Mert Karabacak",
      "userId": "14308977132914475412"
     },
     "user_tz": 300
    },
    "id": "2c7063b3",
    "outputId": "a7cfbff9-ff18-4e26-943d-71ce1723fc27"
   },
   "outputs": [],
   "source": [
    "#Classify tumors into extradural vs. intradural and create a column named 'IEDUR' for it.\n",
    "\n",
    "data.loc[data['CPT'] == 22614, 'LEVELS'] = 'Multi'\n",
    "data.loc[data['CONCPT1'] == 22614, 'LEVELS'] = 'Multi'\n",
    "data.loc[data['CONCPT2'] == 22614, 'LEVELS'] = 'Multi'\n",
    "data.loc[data['CONCPT3'] == 22614, 'LEVELS'] = 'Multi'\n",
    "data.loc[data['CONCPT4'] == 22614, 'LEVELS'] = 'Multi'\n",
    "data.loc[data['CONCPT5'] == 22614, 'LEVELS'] = 'Multi'\n",
    "data.loc[data['CONCPT6'] == 22614, 'LEVELS'] = 'Multi'\n",
    "data.loc[data['CONCPT7'] == 22614, 'LEVELS'] = 'Multi'\n",
    "data.loc[data['CONCPT9'] == 22614, 'LEVELS'] = 'Multi'\n",
    "data.loc[data['CONCPT10'] == 22614, 'LEVELS'] = 'Multi'\n",
    "data.loc[data['OTHERCPT1'] == 22614, 'LEVELS'] = 'Multi'\n",
    "data.loc[data['OTHERCPT2'] == 22614, 'LEVELS'] = 'Multi'\n",
    "data.loc[data['OTHERCPT3'] == 22614, 'LEVELS'] = 'Multi'\n",
    "data.loc[data['OTHERCPT4'] == 22614, 'LEVELS'] = 'Multi'\n",
    "data.loc[data['OTHERCPT5'] == 22614, 'LEVELS'] = 'Multi'\n",
    "data.loc[data['OTHERCPT6'] == 22614, 'LEVELS'] = 'Multi'\n",
    "data.loc[data['OTHERCPT7'] == 22614, 'LEVELS'] = 'Multi'\n",
    "data.loc[data['OTHERCPT9'] == 22614, 'LEVELS'] = 'Multi'\n",
    "data.loc[data['OTHERCPT10'] == 22614, 'LEVELS'] = 'Multi'\n",
    "\n",
    "data.loc[data['LEVELS'] != 'Multi', 'LEVELS'] = 'Single'\n",
    "\n",
    "data['LEVELS'].value_counts(dropna=False)"
   ]
  },
  {
   "cell_type": "code",
   "execution_count": null,
   "id": "ca132d46",
   "metadata": {
    "executionInfo": {
     "elapsed": 20,
     "status": "ok",
     "timestamp": 1669317180757,
     "user": {
      "displayName": "Mert Karabacak",
      "userId": "14308977132914475412"
     },
     "user_tz": 300
    },
    "id": "ca132d46"
   },
   "outputs": [],
   "source": [
    "#Define major complications.\n",
    "\n",
    "data['MAJRCOMP'] = data['NWNDINFD'] + data['NORGSPCSSI'] + data['NDEHIS'] + data['NREINTUB'] + data['NPULEMBOL'] + data['NFAILWEAN'] + data['NRENAINSF'] + data['NOPRENAFL'] + data['NCNSCVA'] + data['NCDARREST'] + data['NCDMI'] + data['NOTHBLEED'] + data['NOTHDVT'] + data['NOTHSYSEP'] + data['NOTHSESHOCK']"
   ]
  },
  {
   "cell_type": "code",
   "execution_count": null,
   "id": "a273cdf1",
   "metadata": {
    "colab": {
     "base_uri": "https://localhost:8080/"
    },
    "executionInfo": {
     "elapsed": 19,
     "status": "ok",
     "timestamp": 1669317180757,
     "user": {
      "displayName": "Mert Karabacak",
      "userId": "14308977132914475412"
     },
     "user_tz": 300
    },
    "id": "a273cdf1",
    "outputId": "3a883c3b-dbf3-4308-8236-5aea62ddbe5e"
   },
   "outputs": [],
   "source": [
    "#Show number of major complications per patient.\n",
    "\n",
    "data['MAJRCOMP'].value_counts()"
   ]
  },
  {
   "cell_type": "code",
   "execution_count": null,
   "id": "fede78c8",
   "metadata": {
    "executionInfo": {
     "elapsed": 17,
     "status": "ok",
     "timestamp": 1669317180757,
     "user": {
      "displayName": "Mert Karabacak",
      "userId": "14308977132914475412"
     },
     "user_tz": 300
    },
    "id": "fede78c8"
   },
   "outputs": [],
   "source": [
    "#Convert major complications into categorical data in a column named 'COMP'.\n",
    "\n",
    "data.loc[data['MAJRCOMP'] == 0, 'COMP'] = 'No'\n",
    "data.loc[data['MAJRCOMP'] >= 1, 'COMP'] = 'Yes'"
   ]
  },
  {
   "cell_type": "code",
   "execution_count": null,
   "id": "aa5c95a3",
   "metadata": {
    "colab": {
     "base_uri": "https://localhost:8080/"
    },
    "executionInfo": {
     "elapsed": 17,
     "status": "ok",
     "timestamp": 1669317180758,
     "user": {
      "displayName": "Mert Karabacak",
      "userId": "14308977132914475412"
     },
     "user_tz": 300
    },
    "id": "aa5c95a3",
    "outputId": "732b0474-2725-4ed9-faad-6d030d85946f"
   },
   "outputs": [],
   "source": [
    "#Show major complications as categorical.\n",
    "\n",
    "data['COMP'].value_counts()"
   ]
  },
  {
   "cell_type": "code",
   "execution_count": null,
   "id": "89c3263c",
   "metadata": {
    "colab": {
     "base_uri": "https://localhost:8080/"
    },
    "executionInfo": {
     "elapsed": 16,
     "status": "ok",
     "timestamp": 1669317180758,
     "user": {
      "displayName": "Mert Karabacak",
      "userId": "14308977132914475412"
     },
     "user_tz": 300
    },
    "id": "89c3263c",
    "outputId": "bfc435ee-a103-4988-b0ba-82735ae23384"
   },
   "outputs": [],
   "source": [
    "#See LOS per patient.\n",
    "\n",
    "data['TOTHLOS'].value_counts()"
   ]
  },
  {
   "cell_type": "code",
   "execution_count": null,
   "id": "fdfccc33",
   "metadata": {
    "colab": {
     "base_uri": "https://localhost:8080/"
    },
    "executionInfo": {
     "elapsed": 301,
     "status": "ok",
     "timestamp": 1669317181045,
     "user": {
      "displayName": "Mert Karabacak",
      "userId": "14308977132914475412"
     },
     "user_tz": 300
    },
    "id": "fdfccc33",
    "outputId": "d8b75ba8-5d23-4052-84e1-bd4d45ec47de"
   },
   "outputs": [],
   "source": [
    "#See 75th percentile of LOS.\n",
    "data.TOTHLOS.quantile(0.75)"
   ]
  },
  {
   "cell_type": "code",
   "execution_count": null,
   "id": "25d22d50",
   "metadata": {
    "executionInfo": {
     "elapsed": 28,
     "status": "ok",
     "timestamp": 1669317181045,
     "user": {
      "displayName": "Mert Karabacak",
      "userId": "14308977132914475412"
     },
     "user_tz": 300
    },
    "id": "25d22d50"
   },
   "outputs": [],
   "source": [
    "#Convert total length of stay into categorical data in a column named 'LOS'.\n",
    "\n",
    "data.loc[data['TOTHLOS'] <= data.TOTHLOS.quantile(0.75), 'LOS'] = 'No'\n",
    "data.loc[data['TOTHLOS'] > data.TOTHLOS.quantile(0.75), 'LOS'] = 'Yes'"
   ]
  },
  {
   "cell_type": "code",
   "execution_count": null,
   "id": "00cadcb7",
   "metadata": {
    "colab": {
     "base_uri": "https://localhost:8080/"
    },
    "executionInfo": {
     "elapsed": 29,
     "status": "ok",
     "timestamp": 1669317181046,
     "user": {
      "displayName": "Mert Karabacak",
      "userId": "14308977132914475412"
     },
     "user_tz": 300
    },
    "id": "00cadcb7",
    "outputId": "a3fe2d8c-cea2-490a-bbfa-fdca6852c00c"
   },
   "outputs": [],
   "source": [
    "#Show major complications as categorical.\n",
    "\n",
    "data['LOS'].value_counts(dropna=False)"
   ]
  },
  {
   "cell_type": "code",
   "execution_count": null,
   "id": "2zHKamnxDlcr",
   "metadata": {
    "executionInfo": {
     "elapsed": 27,
     "status": "ok",
     "timestamp": 1669317181046,
     "user": {
      "displayName": "Mert Karabacak",
      "userId": "14308977132914475412"
     },
     "user_tz": 300
    },
    "id": "2zHKamnxDlcr"
   },
   "outputs": [],
   "source": [
    "#Drop patients with unknown LOS.\n",
    "\n",
    "data = data[data['LOS'].notna()]"
   ]
  },
  {
   "cell_type": "code",
   "execution_count": null,
   "id": "afff01b4",
   "metadata": {
    "colab": {
     "base_uri": "https://localhost:8080/"
    },
    "executionInfo": {
     "elapsed": 26,
     "status": "ok",
     "timestamp": 1669317181046,
     "user": {
      "displayName": "Mert Karabacak",
      "userId": "14308977132914475412"
     },
     "user_tz": 300
    },
    "id": "afff01b4",
    "outputId": "4cb5275c-0a35-4eb9-cf05-5363320baff8"
   },
   "outputs": [],
   "source": [
    "#Show readmission status.\n",
    "\n",
    "data['READMISSION1'].value_counts(dropna=False)"
   ]
  },
  {
   "cell_type": "code",
   "execution_count": null,
   "id": "678588ba",
   "metadata": {
    "executionInfo": {
     "elapsed": 25,
     "status": "ok",
     "timestamp": 1669317181046,
     "user": {
      "displayName": "Mert Karabacak",
      "userId": "14308977132914475412"
     },
     "user_tz": 300
    },
    "id": "678588ba"
   },
   "outputs": [],
   "source": [
    "#Drop patients with unknown readmission status.\n",
    "\n",
    "data = data[data['READMISSION1'].notna()]"
   ]
  },
  {
   "cell_type": "code",
   "execution_count": null,
   "id": "40d739c5",
   "metadata": {
    "colab": {
     "base_uri": "https://localhost:8080/"
    },
    "executionInfo": {
     "elapsed": 13,
     "status": "ok",
     "timestamp": 1669317181046,
     "user": {
      "displayName": "Mert Karabacak",
      "userId": "14308977132914475412"
     },
     "user_tz": 300
    },
    "id": "40d739c5",
    "outputId": "96d45c47-71fa-4b2b-bb54-bcea22e16b45"
   },
   "outputs": [],
   "source": [
    "#Show readmission status after dropping patients with unknown readmission status.\n",
    "\n",
    "data['READMISSION1'].value_counts(dropna=False)"
   ]
  },
  {
   "cell_type": "code",
   "execution_count": null,
   "id": "b8c302ed",
   "metadata": {
    "colab": {
     "base_uri": "https://localhost:8080/"
    },
    "executionInfo": {
     "elapsed": 12,
     "status": "ok",
     "timestamp": 1669317181047,
     "user": {
      "displayName": "Mert Karabacak",
      "userId": "14308977132914475412"
     },
     "user_tz": 300
    },
    "id": "b8c302ed",
    "outputId": "83491746-1341-447d-b5a7-7a2197058837"
   },
   "outputs": [],
   "source": [
    "#Show discharge status.\n",
    "\n",
    "data['DISCHDEST'].value_counts(dropna=False)"
   ]
  },
  {
   "cell_type": "code",
   "execution_count": null,
   "id": "4e3ce5cb",
   "metadata": {
    "executionInfo": {
     "elapsed": 11,
     "status": "ok",
     "timestamp": 1669317181047,
     "user": {
      "displayName": "Mert Karabacak",
      "userId": "14308977132914475412"
     },
     "user_tz": 300
    },
    "id": "4e3ce5cb"
   },
   "outputs": [],
   "source": [
    "#Convert discharge destination into binary data (home vs. non-home discharge) in a column named 'DISCHARGE'.\n",
    "\n",
    "data.loc[data['DISCHDEST'] == 'Home', 'DISCHARGE'] = 'No'\n",
    "data.loc[data['DISCHDEST'] == 'Facility Which was Home', 'DISCHARGE'] = 'No'\n",
    "data.loc[data['DISCHDEST'] == 'Rehab', 'DISCHARGE'] = 'Yes'\n",
    "data.loc[data['DISCHDEST'] == 'Skilled Care, Not Home', 'DISCHARGE'] = 'Yes'\n",
    "data.loc[data['DISCHDEST'] == 'Separate Acute Care', 'DISCHARGE'] = 'Yes'\n",
    "data.loc[data['DISCHDEST'] == 'Multi-level Senior Community', 'DISCHARGE'] = 'Yes'"
   ]
  },
  {
   "cell_type": "code",
   "execution_count": null,
   "id": "8785261c",
   "metadata": {
    "colab": {
     "base_uri": "https://localhost:8080/"
    },
    "executionInfo": {
     "elapsed": 11,
     "status": "ok",
     "timestamp": 1669317181047,
     "user": {
      "displayName": "Mert Karabacak",
      "userId": "14308977132914475412"
     },
     "user_tz": 300
    },
    "id": "8785261c",
    "outputId": "79cb2573-f1c7-4624-cc12-607ce29f00cf"
   },
   "outputs": [],
   "source": [
    "#Show discharge destination status after converting it to binary data.\n",
    "\n",
    "data['DISCHARGE'].value_counts(dropna=False)"
   ]
  },
  {
   "cell_type": "code",
   "execution_count": null,
   "id": "191e7b5a",
   "metadata": {
    "executionInfo": {
     "elapsed": 10,
     "status": "ok",
     "timestamp": 1669317181047,
     "user": {
      "displayName": "Mert Karabacak",
      "userId": "14308977132914475412"
     },
     "user_tz": 300
    },
    "id": "191e7b5a"
   },
   "outputs": [],
   "source": [
    "#Drop patients with unknown discharge status.\n",
    "\n",
    "data = data[data['DISCHARGE'].notna()]"
   ]
  },
  {
   "cell_type": "code",
   "execution_count": null,
   "id": "c9a5c184",
   "metadata": {
    "colab": {
     "base_uri": "https://localhost:8080/"
    },
    "executionInfo": {
     "elapsed": 10,
     "status": "ok",
     "timestamp": 1669317181047,
     "user": {
      "displayName": "Mert Karabacak",
      "userId": "14308977132914475412"
     },
     "user_tz": 300
    },
    "id": "c9a5c184",
    "outputId": "25536a98-27e9-484f-bd12-87428f0ba20a"
   },
   "outputs": [],
   "source": [
    "#Show discharge status after dropping patients with unknown discharge status.\n",
    "\n",
    "data['DISCHARGE'].value_counts(dropna=False)"
   ]
  },
  {
   "cell_type": "code",
   "execution_count": null,
   "id": "aa861235",
   "metadata": {
    "colab": {
     "base_uri": "https://localhost:8080/"
    },
    "executionInfo": {
     "elapsed": 9,
     "status": "ok",
     "timestamp": 1669317181048,
     "user": {
      "displayName": "Mert Karabacak",
      "userId": "14308977132914475412"
     },
     "user_tz": 300
    },
    "id": "aa861235",
    "outputId": "03d27b66-3cae-438a-b9c0-ca115e980d7e"
   },
   "outputs": [],
   "source": [
    "#Check data.\n",
    "\n",
    "data.shape"
   ]
  },
  {
   "cell_type": "code",
   "execution_count": null,
   "id": "55ead6a8",
   "metadata": {
    "colab": {
     "base_uri": "https://localhost:8080/"
    },
    "executionInfo": {
     "elapsed": 8,
     "status": "ok",
     "timestamp": 1669317181048,
     "user": {
      "displayName": "Mert Karabacak",
      "userId": "14308977132914475412"
     },
     "user_tz": 300
    },
    "id": "55ead6a8",
    "outputId": "f716ef5f-4b19-456a-eca8-b3d46bb4d6c8"
   },
   "outputs": [],
   "source": [
    "#See all columns.\n",
    "\n",
    "print(list(data.columns))"
   ]
  },
  {
   "cell_type": "code",
   "execution_count": null,
   "id": "a7b333b1",
   "metadata": {
    "colab": {
     "base_uri": "https://localhost:8080/"
    },
    "executionInfo": {
     "elapsed": 7,
     "status": "ok",
     "timestamp": 1669317181048,
     "user": {
      "displayName": "Mert Karabacak",
      "userId": "14308977132914475412"
     },
     "user_tz": 300
    },
    "id": "a7b333b1",
    "outputId": "9f1a1ff2-2d78-4d69-f4d4-53a41bcb423a"
   },
   "outputs": [],
   "source": [
    "#Drop unwanted columns.\n",
    "\n",
    "drop = ['RACE_NEW', 'ETHNICITY_HISPANIC', 'CPT',  'DISCHDEST', 'ANESTHES', 'ELECTSURG', 'PRSEPIS', 'OTHERCPT1', 'OTHERCPT2', 'OTHERCPT3', 'OTHERCPT4', 'OTHERCPT5', 'OTHERCPT6', 'OTHERCPT7', 'OTHERCPT8', 'OTHERCPT9', 'OTHERCPT10', 'CONCPT1', 'CONCPT2', 'CONCPT3', 'CONCPT4', 'CONCPT5', 'CONCPT6', 'CONCPT7', 'CONCPT8', 'CONCPT9', 'CONCPT10', 'EMERGNCY', 'WNDCLAS', 'OPTIME', 'TOTHLOS', 'HTOODAY', 'NSUPINFEC', 'NWNDINFD', 'NORGSPCSSI', 'NDEHIS', 'NOUPNEUMO', 'NREINTUB', 'NPULEMBOL', 'NFAILWEAN', 'NRENAINSF', 'NOPRENAFL', 'NURNINFEC', 'NCNSCVA', 'NCDARREST', 'NCDMI', 'NOTHBLEED', 'NOTHDVT', 'NOTHSYSEP', 'NOTHSESHOCK', 'PODIAG', 'PODIAG10', 'STILLINHOSP', 'CPT_EX', 'MAJRCOMP']\n",
    "data.drop(drop, axis=1, inplace=True)"
   ]
  },
  {
   "cell_type": "code",
   "execution_count": null,
   "id": "5f8c4150",
   "metadata": {
    "executionInfo": {
     "elapsed": 473,
     "status": "ok",
     "timestamp": 1669317181515,
     "user": {
      "displayName": "Mert Karabacak",
      "userId": "14308977132914475412"
     },
     "user_tz": 300
    },
    "id": "5f8c4150"
   },
   "outputs": [],
   "source": [
    "#Save data.\n",
    "\n",
    "data.to_csv('/content/drive/MyDrive/NSQIP-PCF/pcf_clean.csv')"
   ]
  },
  {
   "cell_type": "code",
   "execution_count": null,
   "id": "11efb52b",
   "metadata": {
    "colab": {
     "base_uri": "https://localhost:8080/"
    },
    "executionInfo": {
     "elapsed": 8,
     "status": "ok",
     "timestamp": 1669317181516,
     "user": {
      "displayName": "Mert Karabacak",
      "userId": "14308977132914475412"
     },
     "user_tz": 300
    },
    "id": "11efb52b",
    "outputId": "3fcfa4e6-379a-4579-f73e-230cdcc5b7d8"
   },
   "outputs": [],
   "source": [
    "#See categorical and continuous variables.\n",
    "\n",
    "print('Numerical columns: {}'.format(list(data.select_dtypes('number').columns)))\n",
    "print()\n",
    "print('Categorical columns: {}'.format(list(data.select_dtypes('object').columns)))"
   ]
  },
  {
   "cell_type": "code",
   "execution_count": null,
   "id": "282afb2e",
   "metadata": {
    "executionInfo": {
     "elapsed": 5,
     "status": "ok",
     "timestamp": 1669317181516,
     "user": {
      "displayName": "Mert Karabacak",
      "userId": "14308977132914475412"
     },
     "user_tz": 300
    },
    "id": "282afb2e"
   },
   "outputs": [],
   "source": [
    "#Define numerical and categorical columns.\n",
    "\n",
    "num_cols = ['AGE', 'HEIGHT', 'WEIGHT', 'PRSODM', 'PRBUN', 'PRCREAT', 'PRALBUM', 'PRBILI', 'PRSGOT', 'PRALKPH', 'PRWBC', 'PRHCT', 'PRPLATE', 'PRPTT', 'PRINR', 'PRPT', 'BMI']\n",
    "\n",
    "cat_cols = ['SEX', 'INOUT', 'TRANST', 'SURGSPEC', 'DIABETES', 'SMOKE', 'DYSPNEA', 'FNSTATUS2', 'VENTILAT', 'HXCOPD', 'ASCITES', 'HXCHF', 'HYPERMED', 'RENAFAIL', 'DIALYSIS', 'DISCANCR', 'WNDINF', 'STEROID', 'WTLOSS', 'BLEEDDIS', 'TRANSFUS', 'ASACLAS', 'READMISSION1', 'RACE', 'LEVELS', 'COMP', 'LOS', 'DISCHARGE']"
   ]
  },
  {
   "cell_type": "code",
   "execution_count": null,
   "id": "f7a6bff0",
   "metadata": {
    "colab": {
     "base_uri": "https://localhost:8080/"
    },
    "executionInfo": {
     "elapsed": 5,
     "status": "ok",
     "timestamp": 1669317181516,
     "user": {
      "displayName": "Mert Karabacak",
      "userId": "14308977132914475412"
     },
     "user_tz": 300
    },
    "id": "f7a6bff0",
    "outputId": "df28839c-626c-41ab-b7dc-1c483dffb97a"
   },
   "outputs": [],
   "source": [
    "#Check missing values for numerical columns.\n",
    "\n",
    "missing_num = data[num_cols].isnull().mean().round(4).mul(100).sort_values(ascending=False)\n",
    "\n",
    "missing_num = pd.DataFrame(missing_num)\n",
    "\n",
    "missing_num.columns = ['Value']\n",
    "\n",
    "missing_num = missing_num[missing_num['Value'] > 0]\n",
    "\n",
    "print(missing_num.index)\n",
    "\n",
    "missing_num = missing_num[missing_num['Value'] > 25]\n",
    "\n",
    "missing_num = list(missing_num.index)\n",
    "\n",
    "print(missing_num)"
   ]
  },
  {
   "cell_type": "code",
   "execution_count": null,
   "id": "e128cfb5",
   "metadata": {
    "executionInfo": {
     "elapsed": 3,
     "status": "ok",
     "timestamp": 1669317181516,
     "user": {
      "displayName": "Mert Karabacak",
      "userId": "14308977132914475412"
     },
     "user_tz": 300
    },
    "id": "e128cfb5"
   },
   "outputs": [],
   "source": [
    "#Drop numerical columns with missing values over 25%.\n",
    "\n",
    "data.drop(missing_num, axis=1, inplace=True)"
   ]
  },
  {
   "cell_type": "code",
   "execution_count": null,
   "id": "4756b292",
   "metadata": {
    "colab": {
     "base_uri": "https://localhost:8080/"
    },
    "executionInfo": {
     "elapsed": 4,
     "status": "ok",
     "timestamp": 1669317181517,
     "user": {
      "displayName": "Mert Karabacak",
      "userId": "14308977132914475412"
     },
     "user_tz": 300
    },
    "id": "4756b292",
    "outputId": "11b4559c-e45c-46c3-a0df-bb32d117eaf8"
   },
   "outputs": [],
   "source": [
    "#Define new numerical columns.\n",
    "\n",
    "num_cols = [x for x in num_cols if x not in missing_num]\n",
    "print(num_cols)"
   ]
  },
  {
   "cell_type": "code",
   "execution_count": null,
   "id": "ff8609cd",
   "metadata": {
    "executionInfo": {
     "elapsed": 267,
     "status": "ok",
     "timestamp": 1669317181781,
     "user": {
      "displayName": "Mert Karabacak",
      "userId": "14308977132914475412"
     },
     "user_tz": 300
    },
    "id": "ff8609cd"
   },
   "outputs": [],
   "source": [
    "#Impute missing numerical values.\n",
    "\n",
    "num_imputer = KNNImputer(n_neighbors=5, weights='uniform', metric='nan_euclidean')\n",
    "data[num_cols] = num_imputer.fit_transform(data[num_cols])"
   ]
  },
  {
   "cell_type": "code",
   "execution_count": null,
   "id": "0dac04c6",
   "metadata": {
    "colab": {
     "base_uri": "https://localhost:8080/"
    },
    "executionInfo": {
     "elapsed": 8,
     "status": "ok",
     "timestamp": 1669317181782,
     "user": {
      "displayName": "Mert Karabacak",
      "userId": "14308977132914475412"
     },
     "user_tz": 300
    },
    "id": "0dac04c6",
    "outputId": "c763e164-fb02-4e7c-be0a-f78461a22b66"
   },
   "outputs": [],
   "source": [
    "#Check numerical variables with missing values after imputation.\n",
    "\n",
    "data[num_cols].isnull().mean().round(4).mul(100).sort_values(ascending=False)"
   ]
  },
  {
   "cell_type": "code",
   "execution_count": null,
   "id": "01b6490e",
   "metadata": {
    "colab": {
     "base_uri": "https://localhost:8080/"
    },
    "executionInfo": {
     "elapsed": 7,
     "status": "ok",
     "timestamp": 1669317181782,
     "user": {
      "displayName": "Mert Karabacak",
      "userId": "14308977132914475412"
     },
     "user_tz": 300
    },
    "id": "01b6490e",
    "outputId": "7fb10dde-38c0-438f-efe1-1c8701e5058d"
   },
   "outputs": [],
   "source": [
    "#Check missing values for categorical columns.\n",
    "\n",
    "missing_cat = data[cat_cols].isnull().mean().round(4).mul(100).sort_values(ascending=False)\n",
    "\n",
    "missing_cat = pd.DataFrame(missing_cat)\n",
    "\n",
    "missing_cat.columns = ['Value']\n",
    "\n",
    "missing_cat = missing_cat[missing_cat['Value'] > 0]\n",
    "\n",
    "print(missing_cat.index)\n",
    "\n",
    "missing_cat = missing_cat[missing_cat['Value'] > 25]\n",
    "\n",
    "missing_cat = list(missing_cat.index)\n",
    "\n",
    "print(missing_cat)"
   ]
  },
  {
   "cell_type": "code",
   "execution_count": null,
   "id": "89d3cdc4",
   "metadata": {
    "executionInfo": {
     "elapsed": 6,
     "status": "ok",
     "timestamp": 1669317181782,
     "user": {
      "displayName": "Mert Karabacak",
      "userId": "14308977132914475412"
     },
     "user_tz": 300
    },
    "id": "89d3cdc4"
   },
   "outputs": [],
   "source": [
    "#Drop categorical columns with missing values over 25%.\n",
    "\n",
    "data.drop(missing_cat, axis=1, inplace=True)"
   ]
  },
  {
   "cell_type": "code",
   "execution_count": null,
   "id": "680fe385",
   "metadata": {
    "colab": {
     "base_uri": "https://localhost:8080/"
    },
    "executionInfo": {
     "elapsed": 7,
     "status": "ok",
     "timestamp": 1669317181783,
     "user": {
      "displayName": "Mert Karabacak",
      "userId": "14308977132914475412"
     },
     "user_tz": 300
    },
    "id": "680fe385",
    "outputId": "db9aeeea-ab98-4f63-d458-4f0ec5cf1d26"
   },
   "outputs": [],
   "source": [
    "#Define new categorical columns.\n",
    "\n",
    "cat_cols = [x for x in cat_cols if x not in missing_cat]\n",
    "print(cat_cols)"
   ]
  },
  {
   "cell_type": "code",
   "execution_count": null,
   "id": "9250b986",
   "metadata": {
    "executionInfo": {
     "elapsed": 5,
     "status": "ok",
     "timestamp": 1669317181783,
     "user": {
      "displayName": "Mert Karabacak",
      "userId": "14308977132914475412"
     },
     "user_tz": 300
    },
    "id": "9250b986"
   },
   "outputs": [],
   "source": [
    "#Replace missing categorical values with 'Unknown'.\n",
    "\n",
    "for col in cat_cols:\n",
    "    data[col].fillna(value='Unknown', inplace=True)"
   ]
  },
  {
   "cell_type": "code",
   "execution_count": null,
   "id": "adfd5ff2",
   "metadata": {
    "colab": {
     "base_uri": "https://localhost:8080/"
    },
    "executionInfo": {
     "elapsed": 5,
     "status": "ok",
     "timestamp": 1669317181783,
     "user": {
      "displayName": "Mert Karabacak",
      "userId": "14308977132914475412"
     },
     "user_tz": 300
    },
    "id": "adfd5ff2",
    "outputId": "73541c3e-66be-43f1-beb4-096b702108b4"
   },
   "outputs": [],
   "source": [
    "#Check missing values after imputation.\n",
    "\n",
    "data[cat_cols].isnull().mean().round(4).mul(100).sort_values(ascending=False)"
   ]
  },
  {
   "cell_type": "code",
   "execution_count": null,
   "id": "2289a865",
   "metadata": {
    "executionInfo": {
     "elapsed": 1004,
     "status": "ok",
     "timestamp": 1669317182783,
     "user": {
      "displayName": "Mert Karabacak",
      "userId": "14308977132914475412"
     },
     "user_tz": 300
    },
    "id": "2289a865"
   },
   "outputs": [],
   "source": [
    "#Save imputed data.\n",
    "\n",
    "data.to_csv('/content/drive/MyDrive/NSQIP-PCF/pcf_imputed.csv')"
   ]
  },
  {
   "cell_type": "code",
   "execution_count": null,
   "id": "242adba5",
   "metadata": {
    "executionInfo": {
     "elapsed": 3,
     "status": "ok",
     "timestamp": 1669317182784,
     "user": {
      "displayName": "Mert Karabacak",
      "userId": "14308977132914475412"
     },
     "user_tz": 300
    },
    "id": "242adba5"
   },
   "outputs": [],
   "source": [
    "#RobustScale data.\n",
    "\n",
    "data[num_cols] = RobustScaler().fit_transform(data[num_cols])"
   ]
  },
  {
   "cell_type": "code",
   "execution_count": null,
   "id": "4336ba8a",
   "metadata": {
    "executionInfo": {
     "elapsed": 4,
     "status": "ok",
     "timestamp": 1669317182784,
     "user": {
      "displayName": "Mert Karabacak",
      "userId": "14308977132914475412"
     },
     "user_tz": 300
    },
    "id": "4336ba8a"
   },
   "outputs": [],
   "source": [
    "#Normalize data.\n",
    "\n",
    "data[num_cols] = MinMaxScaler().fit_transform(data[num_cols])"
   ]
  },
  {
   "cell_type": "code",
   "execution_count": null,
   "id": "c5490d9b",
   "metadata": {
    "executionInfo": {
     "elapsed": 370,
     "status": "ok",
     "timestamp": 1669317183152,
     "user": {
      "displayName": "Mert Karabacak",
      "userId": "14308977132914475412"
     },
     "user_tz": 300
    },
    "id": "c5490d9b"
   },
   "outputs": [],
   "source": [
    "#Save scaled data.\n",
    "\n",
    "data.to_csv('/content/drive/MyDrive/NSQIP-PCF/pcf_scaled.csv')"
   ]
  },
  {
   "cell_type": "code",
   "execution_count": null,
   "id": "dfbec9b0",
   "metadata": {
    "executionInfo": {
     "elapsed": 2,
     "status": "ok",
     "timestamp": 1669317183152,
     "user": {
      "displayName": "Mert Karabacak",
      "userId": "14308977132914475412"
     },
     "user_tz": 300
    },
    "id": "dfbec9b0"
   },
   "outputs": [],
   "source": [
    "#One hot encoding for categorical values.\n",
    "\n",
    "data_final = pd.get_dummies(data, columns = cat_cols, drop_first = True)"
   ]
  },
  {
   "cell_type": "code",
   "execution_count": null,
   "id": "cc12859a",
   "metadata": {
    "executionInfo": {
     "elapsed": 737,
     "status": "ok",
     "timestamp": 1669317183888,
     "user": {
      "displayName": "Mert Karabacak",
      "userId": "14308977132914475412"
     },
     "user_tz": 300
    },
    "id": "cc12859a"
   },
   "outputs": [],
   "source": [
    "#Save final data.\n",
    "\n",
    "data_final.to_csv('/content/drive/MyDrive/NSQIP-PCF/pcf_final.csv')"
   ]
  }
 ],
 "metadata": {
  "colab": {
   "machine_shape": "hm",
   "provenance": [
    {
     "file_id": "1AXH9JUz2PztvXr-hpN3EzKrUTEbGW2Si",
     "timestamp": 1669306790787
    }
   ]
  },
  "environment": {
   "kernel": "python3",
   "name": "common-cpu.m100",
   "type": "gcloud",
   "uri": "gcr.io/deeplearning-platform-release/base-cpu:m100"
  },
  "gpuClass": "standard",
  "kernelspec": {
   "display_name": "Python 3 (ipykernel)",
   "language": "python",
   "name": "python3"
  },
  "language_info": {
   "codemirror_mode": {
    "name": "ipython",
    "version": 3
   },
   "file_extension": ".py",
   "mimetype": "text/x-python",
   "name": "python",
   "nbconvert_exporter": "python",
   "pygments_lexer": "ipython3",
   "version": "3.9.13"
  }
 },
 "nbformat": 4,
 "nbformat_minor": 5
}
