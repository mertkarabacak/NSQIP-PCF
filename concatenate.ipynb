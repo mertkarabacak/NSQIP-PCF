{
 "cells": [
  {
   "cell_type": "code",
   "execution_count": null,
   "id": "NUoUw1WrLesI",
   "metadata": {
    "colab": {
     "base_uri": "https://localhost:8080/"
    },
    "executionInfo": {
     "elapsed": 15978,
     "status": "ok",
     "timestamp": 1669316179069,
     "user": {
      "displayName": "Mert Karabacak",
      "userId": "14308977132914475412"
     },
     "user_tz": 300
    },
    "id": "NUoUw1WrLesI",
    "outputId": "4911faca-e62e-4eb2-aefc-fd2d1be50e40"
   },
   "outputs": [],
   "source": [
    "from google.colab import drive\n",
    "drive.mount('/content/drive')"
   ]
  },
  {
   "cell_type": "code",
   "execution_count": null,
   "id": "b7069c46-b444-4100-b7d9-c884c759b493",
   "metadata": {
    "executionInfo": {
     "elapsed": 478,
     "status": "ok",
     "timestamp": 1669316209187,
     "user": {
      "displayName": "Mert Karabacak",
      "userId": "14308977132914475412"
     },
     "user_tz": 300
    },
    "id": "b7069c46-b444-4100-b7d9-c884c759b493"
   },
   "outputs": [],
   "source": [
    "import pandas as pd"
   ]
  },
  {
   "cell_type": "code",
   "execution_count": null,
   "id": "83ebea8e-eaf9-4e4c-95b0-7b18bcac7215",
   "metadata": {
    "executionInfo": {
     "elapsed": 99473,
     "status": "ok",
     "timestamp": 1669316310128,
     "user": {
      "displayName": "Mert Karabacak",
      "userId": "14308977132914475412"
     },
     "user_tz": 300
    },
    "id": "83ebea8e-eaf9-4e4c-95b0-7b18bcac7215"
   },
   "outputs": [],
   "source": [
    "#Read 2020 data.\n",
    "\n",
    "df2020 = pd.read_csv(\"/content/drive/MyDrive/NSQIP-PUFs/NSQIP_2020.csv\", index_col = 'CaseID', encoding = 'latin1', low_memory = False)\n",
    "\n",
    "df2020.columns = map(str.upper, df2020.columns)"
   ]
  },
  {
   "cell_type": "code",
   "execution_count": null,
   "id": "37b4e4d8-f7d9-4715-86e4-a52a158b4626",
   "metadata": {
    "executionInfo": {
     "elapsed": 2367,
     "status": "ok",
     "timestamp": 1669316338224,
     "user": {
      "displayName": "Mert Karabacak",
      "userId": "14308977132914475412"
     },
     "user_tz": 300
    },
    "id": "37b4e4d8-f7d9-4715-86e4-a52a158b4626"
   },
   "outputs": [],
   "source": [
    "#Drop the columns that are not present in other years.\n",
    "\n",
    "df2020 = df2020.drop(columns=['EOL_WDCARE', 'BLEED_UNITS_TOT'])"
   ]
  },
  {
   "cell_type": "code",
   "execution_count": null,
   "id": "336cffa1-eca7-41ba-9fda-844b73a7068f",
   "metadata": {
    "colab": {
     "base_uri": "https://localhost:8080/"
    },
    "executionInfo": {
     "elapsed": 119,
     "status": "ok",
     "timestamp": 1669316339227,
     "user": {
      "displayName": "Mert Karabacak",
      "userId": "14308977132914475412"
     },
     "user_tz": 300
    },
    "id": "336cffa1-eca7-41ba-9fda-844b73a7068f",
    "outputId": "90cf5ce4-9b29-4fa2-f6d2-5a0b07cd1c65"
   },
   "outputs": [],
   "source": [
    "#Check 2020 data shape.\n",
    "\n",
    "df2020.shape"
   ]
  },
  {
   "cell_type": "code",
   "execution_count": null,
   "id": "085e47a0-deef-46ab-be43-3c70880b3cce",
   "metadata": {
    "colab": {
     "base_uri": "https://localhost:8080/"
    },
    "executionInfo": {
     "elapsed": 489,
     "status": "ok",
     "timestamp": 1669316340976,
     "user": {
      "displayName": "Mert Karabacak",
      "userId": "14308977132914475412"
     },
     "user_tz": 300
    },
    "id": "085e47a0-deef-46ab-be43-3c70880b3cce",
    "outputId": "8e4024a2-4464-45ff-9120-964428d12223"
   },
   "outputs": [],
   "source": [
    "#Identify PCF with CPT codes.\n",
    "\n",
    "df2020_pcf = df2020[(df2020['CPT'] == 22600) | (df2020['CONCPT1'] == 22600) | (df2020['CONCPT2'] == 22600) | (df2020['CONCPT3'] == 22600) | (df2020['CONCPT4'] == 22600) | (df2020['CONCPT5'] == 22600) | (df2020['CONCPT6'] == 22600) | (df2020['CONCPT7'] == 22600) | (df2020['CONCPT8'] == 22600) | (df2020['CONCPT9'] == 22600) | (df2020['CONCPT10'] == 22600) | (df2020['OTHERCPT1'] == 22600) | (df2020['OTHERCPT2'] == 22600) | (df2020['OTHERCPT3'] == 22600) | (df2020['OTHERCPT4'] == 22600) | (df2020['OTHERCPT5'] == 22600) | (df2020['OTHERCPT6'] == 22600) | (df2020['OTHERCPT7'] == 22600) | (df2020['OTHERCPT8'] == 22600) | (df2020['OTHERCPT9'] == 22600) | (df2020['OTHERCPT10'] == 22600)]\n",
    "print(df2020_pcf.shape)"
   ]
  },
  {
   "cell_type": "code",
   "execution_count": null,
   "id": "a9542653-5403-410b-bf62-664e14f6462b",
   "metadata": {
    "executionInfo": {
     "elapsed": 100421,
     "status": "ok",
     "timestamp": 1669316442650,
     "user": {
      "displayName": "Mert Karabacak",
      "userId": "14308977132914475412"
     },
     "user_tz": 300
    },
    "id": "a9542653-5403-410b-bf62-664e14f6462b"
   },
   "outputs": [],
   "source": [
    "#Read 2019 data.\n",
    "\n",
    "df2019 = pd.read_csv(\"/content/drive/MyDrive/NSQIP-PUFs/NSQIP_2019.csv\", index_col = 'CASEID', encoding = 'latin1', low_memory = False)\n",
    "\n",
    "df2019.columns = map(str.upper, df2019.columns)"
   ]
  },
  {
   "cell_type": "code",
   "execution_count": null,
   "id": "779f98b3-ebfc-45bc-97b6-084feee4fb16",
   "metadata": {
    "colab": {
     "base_uri": "https://localhost:8080/"
    },
    "executionInfo": {
     "elapsed": 11,
     "status": "ok",
     "timestamp": 1669316442651,
     "user": {
      "displayName": "Mert Karabacak",
      "userId": "14308977132914475412"
     },
     "user_tz": 300
    },
    "id": "779f98b3-ebfc-45bc-97b6-084feee4fb16",
    "outputId": "1df1e8ea-2363-432d-99ff-76169194a78b"
   },
   "outputs": [],
   "source": [
    "#Check 2019 data shape.\n",
    "\n",
    "df2019.shape"
   ]
  },
  {
   "cell_type": "code",
   "execution_count": null,
   "id": "c6fb2a92-7924-4965-8282-2fd54bcac03b",
   "metadata": {
    "colab": {
     "base_uri": "https://localhost:8080/"
    },
    "executionInfo": {
     "elapsed": 447,
     "status": "ok",
     "timestamp": 1669316443088,
     "user": {
      "displayName": "Mert Karabacak",
      "userId": "14308977132914475412"
     },
     "user_tz": 300
    },
    "id": "c6fb2a92-7924-4965-8282-2fd54bcac03b",
    "outputId": "8a37b58a-fc63-4c50-c491-1d631b514886"
   },
   "outputs": [],
   "source": [
    "#Identify PCF with CPT codes.\n",
    "\n",
    "df2019_pcf = df2019[(df2019['CPT'] == 22600) | (df2019['CONCPT1'] == 22600) | (df2019['CONCPT2'] == 22600) | (df2019['CONCPT3'] == 22600) | (df2019['CONCPT4'] == 22600) | (df2019['CONCPT5'] == 22600) | (df2019['CONCPT6'] == 22600) | (df2019['CONCPT7'] == 22600) | (df2019['CONCPT8'] == 22600) | (df2019['CONCPT9'] == 22600) | (df2019['CONCPT10'] == 22600) | (df2019['OTHERCPT1'] == 22600) | (df2019['OTHERCPT2'] == 22600) | (df2019['OTHERCPT3'] == 22600) | (df2019['OTHERCPT4'] == 22600) | (df2019['OTHERCPT5'] == 22600) | (df2019['OTHERCPT6'] == 22600) | (df2019['OTHERCPT7'] == 22600) | (df2019['OTHERCPT8'] == 22600) | (df2019['OTHERCPT9'] == 22600) | (df2019['OTHERCPT10'] == 22600)]\n",
    "print(df2019_pcf.shape)"
   ]
  },
  {
   "cell_type": "code",
   "execution_count": null,
   "id": "cb772fcf-d268-4221-93a0-5eb5c265c935",
   "metadata": {
    "executionInfo": {
     "elapsed": 94348,
     "status": "ok",
     "timestamp": 1669316537433,
     "user": {
      "displayName": "Mert Karabacak",
      "userId": "14308977132914475412"
     },
     "user_tz": 300
    },
    "id": "cb772fcf-d268-4221-93a0-5eb5c265c935"
   },
   "outputs": [],
   "source": [
    "#Read 2018 data.\n",
    "\n",
    "df2018 = pd.read_csv(\"/content/drive/MyDrive/NSQIP-PUFs/NSQIP_2018.csv\", index_col = 'CaseID', encoding = 'latin1', low_memory = False)\n",
    "\n",
    "df2018.columns = map(str.upper, df2018.columns)"
   ]
  },
  {
   "cell_type": "code",
   "execution_count": null,
   "id": "e40d915a-d1c3-4efd-b325-6245ec91323d",
   "metadata": {
    "colab": {
     "base_uri": "https://localhost:8080/"
    },
    "executionInfo": {
     "elapsed": 10,
     "status": "ok",
     "timestamp": 1669316537434,
     "user": {
      "displayName": "Mert Karabacak",
      "userId": "14308977132914475412"
     },
     "user_tz": 300
    },
    "id": "e40d915a-d1c3-4efd-b325-6245ec91323d",
    "outputId": "dba2cfc0-3774-4091-9150-21dac5f1bbd0"
   },
   "outputs": [],
   "source": [
    "#Check 2018 data shape.\n",
    "\n",
    "df2018.shape"
   ]
  },
  {
   "cell_type": "code",
   "execution_count": null,
   "id": "e8bc3025-d320-46fb-8a4b-e2ba478dbb30",
   "metadata": {
    "colab": {
     "base_uri": "https://localhost:8080/"
    },
    "executionInfo": {
     "elapsed": 486,
     "status": "ok",
     "timestamp": 1669316537912,
     "user": {
      "displayName": "Mert Karabacak",
      "userId": "14308977132914475412"
     },
     "user_tz": 300
    },
    "id": "e8bc3025-d320-46fb-8a4b-e2ba478dbb30",
    "outputId": "47bdb190-2a71-4442-aa87-303fde42e498"
   },
   "outputs": [],
   "source": [
    "#Identify PCF with CPT codes.\n",
    "\n",
    "df2018_pcf = df2018[(df2018['CPT'] == 22600) | (df2018['CONCPT1'] == 22600) | (df2018['CONCPT2'] == 22600) | (df2018['CONCPT3'] == 22600) | (df2018['CONCPT4'] == 22600) | (df2018['CONCPT5'] == 22600) | (df2018['CONCPT6'] == 22600) | (df2018['CONCPT7'] == 22600) | (df2018['CONCPT8'] == 22600) | (df2018['CONCPT9'] == 22600) | (df2018['CONCPT10'] == 22600) | (df2018['OTHERCPT1'] == 22600) | (df2018['OTHERCPT2'] == 22600) | (df2018['OTHERCPT3'] == 22600) | (df2018['OTHERCPT4'] == 22600) | (df2018['OTHERCPT5'] == 22600) | (df2018['OTHERCPT6'] == 22600) | (df2018['OTHERCPT7'] == 22600) | (df2018['OTHERCPT8'] == 22600) | (df2018['OTHERCPT9'] == 22600) | (df2018['OTHERCPT10'] == 22600)]\n",
    "print(df2018_pcf.shape)"
   ]
  },
  {
   "cell_type": "code",
   "execution_count": null,
   "id": "5170bbc1-b5d3-4c09-9657-d25b0ac0ecba",
   "metadata": {
    "executionInfo": {
     "elapsed": 89920,
     "status": "ok",
     "timestamp": 1669316627831,
     "user": {
      "displayName": "Mert Karabacak",
      "userId": "14308977132914475412"
     },
     "user_tz": 300
    },
    "id": "5170bbc1-b5d3-4c09-9657-d25b0ac0ecba"
   },
   "outputs": [],
   "source": [
    "#Read 2017 data.\n",
    "\n",
    "df2017 = pd.read_csv(\"/content/drive/MyDrive/NSQIP-PUFs/NSQIP_2017.csv\", index_col = 'CaseID', encoding = 'latin1', low_memory = False)\n",
    "\n",
    "df2017.columns = map(str.upper, df2017.columns)"
   ]
  },
  {
   "cell_type": "code",
   "execution_count": null,
   "id": "992f5c92-fbb3-48d1-93de-b980c60a9ff3",
   "metadata": {
    "colab": {
     "base_uri": "https://localhost:8080/"
    },
    "executionInfo": {
     "elapsed": 10,
     "status": "ok",
     "timestamp": 1669316627831,
     "user": {
      "displayName": "Mert Karabacak",
      "userId": "14308977132914475412"
     },
     "user_tz": 300
    },
    "id": "992f5c92-fbb3-48d1-93de-b980c60a9ff3",
    "outputId": "ffa5b5d7-7b17-4fe6-a1c7-1dd46fdb2ba0"
   },
   "outputs": [],
   "source": [
    "#Check 2017 data shape.\n",
    "\n",
    "df2017.shape"
   ]
  },
  {
   "cell_type": "code",
   "execution_count": null,
   "id": "37d5f575-43ab-4f3e-929a-70e0e0a75419",
   "metadata": {
    "colab": {
     "base_uri": "https://localhost:8080/"
    },
    "executionInfo": {
     "elapsed": 561,
     "status": "ok",
     "timestamp": 1669316628383,
     "user": {
      "displayName": "Mert Karabacak",
      "userId": "14308977132914475412"
     },
     "user_tz": 300
    },
    "id": "37d5f575-43ab-4f3e-929a-70e0e0a75419",
    "outputId": "ee5fa2c1-5503-4171-b87f-5bcff58ccfc6"
   },
   "outputs": [],
   "source": [
    "#Identify PCF with CPT codes.\n",
    "\n",
    "df2017_pcf = df2017[(df2017['CPT'] == 22600) | (df2017['CONCPT1'] == 22600) | (df2017['CONCPT2'] == 22600) | (df2017['CONCPT3'] == 22600) | (df2017['CONCPT4'] == 22600) | (df2017['CONCPT5'] == 22600) | (df2017['CONCPT6'] == 22600) | (df2017['CONCPT7'] == 22600) | (df2017['CONCPT8'] == 22600) | (df2017['CONCPT9'] == 22600) | (df2017['CONCPT10'] == 22600) | (df2017['OTHERCPT1'] == 22600) | (df2017['OTHERCPT2'] == 22600) | (df2017['OTHERCPT3'] == 22600) | (df2017['OTHERCPT4'] == 22600) | (df2017['OTHERCPT5'] == 22600) | (df2017['OTHERCPT6'] == 22600) | (df2017['OTHERCPT7'] == 22600) | (df2017['OTHERCPT8'] == 22600) | (df2017['OTHERCPT9'] == 22600) | (df2017['OTHERCPT10'] == 22600)]\n",
    "print(df2017_pcf.shape)"
   ]
  },
  {
   "cell_type": "code",
   "execution_count": null,
   "id": "24ac9edb-b63f-4dae-a208-26ecf6c94b11",
   "metadata": {
    "executionInfo": {
     "elapsed": 91706,
     "status": "ok",
     "timestamp": 1669316720088,
     "user": {
      "displayName": "Mert Karabacak",
      "userId": "14308977132914475412"
     },
     "user_tz": 300
    },
    "id": "24ac9edb-b63f-4dae-a208-26ecf6c94b11"
   },
   "outputs": [],
   "source": [
    "#Read 2016 data.\n",
    "\n",
    "df2016 = pd.read_csv(\"/content/drive/MyDrive/NSQIP-PUFs/NSQIP_2016.csv\", index_col = 'CaseID', encoding = 'latin1', low_memory = False)\n",
    "\n",
    "df2016.columns = map(str.upper, df2016.columns)"
   ]
  },
  {
   "cell_type": "code",
   "execution_count": null,
   "id": "c12cee42-43df-40fc-990e-3e88acd63726",
   "metadata": {
    "colab": {
     "base_uri": "https://localhost:8080/"
    },
    "executionInfo": {
     "elapsed": 10,
     "status": "ok",
     "timestamp": 1669316720088,
     "user": {
      "displayName": "Mert Karabacak",
      "userId": "14308977132914475412"
     },
     "user_tz": 300
    },
    "id": "c12cee42-43df-40fc-990e-3e88acd63726",
    "outputId": "106b50d9-20d1-4e19-a777-678b30f3d026"
   },
   "outputs": [],
   "source": [
    "#Check 2016 data shape.\n",
    "\n",
    "df2016.shape"
   ]
  },
  {
   "cell_type": "code",
   "execution_count": null,
   "id": "dd9866b0-c2dc-4da0-b9a6-f738f20b4e7b",
   "metadata": {
    "colab": {
     "base_uri": "https://localhost:8080/"
    },
    "executionInfo": {
     "elapsed": 435,
     "status": "ok",
     "timestamp": 1669316720514,
     "user": {
      "displayName": "Mert Karabacak",
      "userId": "14308977132914475412"
     },
     "user_tz": 300
    },
    "id": "dd9866b0-c2dc-4da0-b9a6-f738f20b4e7b",
    "outputId": "cbac766d-9d54-4f1f-ba6d-419ee53e0aee"
   },
   "outputs": [],
   "source": [
    "#Identify PCF with CPT codes.\n",
    "\n",
    "df2016_pcf = df2016[(df2016['CPT'] == 22600) | (df2016['CONCPT1'] == 22600) | (df2016['CONCPT2'] == 22600) | (df2016['CONCPT3'] == 22600) | (df2016['CONCPT4'] == 22600) | (df2016['CONCPT5'] == 22600) | (df2016['CONCPT6'] == 22600) | (df2016['CONCPT7'] == 22600) | (df2016['CONCPT8'] == 22600) | (df2016['CONCPT9'] == 22600) | (df2016['CONCPT10'] == 22600) | (df2016['OTHERCPT1'] == 22600) | (df2016['OTHERCPT2'] == 22600) | (df2016['OTHERCPT3'] == 22600) | (df2016['OTHERCPT4'] == 22600) | (df2016['OTHERCPT5'] == 22600) | (df2016['OTHERCPT6'] == 22600) | (df2016['OTHERCPT7'] == 22600) | (df2016['OTHERCPT8'] == 22600) | (df2016['OTHERCPT9'] == 22600) | (df2016['OTHERCPT10'] == 22600)]\n",
    "print(df2016_pcf.shape)"
   ]
  },
  {
   "cell_type": "code",
   "execution_count": null,
   "id": "GMxKl6Owz51A",
   "metadata": {
    "executionInfo": {
     "elapsed": 97931,
     "status": "ok",
     "timestamp": 1669316818444,
     "user": {
      "displayName": "Mert Karabacak",
      "userId": "14308977132914475412"
     },
     "user_tz": 300
    },
    "id": "GMxKl6Owz51A"
   },
   "outputs": [],
   "source": [
    "#Read 2015 data.\n",
    "\n",
    "df2015 = pd.read_csv(\"/content/drive/MyDrive/NSQIP-PUFs/NSQIP_2015.csv\", index_col = 'CaseID', encoding = 'latin1', low_memory = False)\n",
    "\n",
    "df2015.columns = map(str.upper, df2015.columns)"
   ]
  },
  {
   "cell_type": "code",
   "execution_count": null,
   "id": "dNNBjxPmz51F",
   "metadata": {
    "colab": {
     "base_uri": "https://localhost:8080/"
    },
    "executionInfo": {
     "elapsed": 3,
     "status": "ok",
     "timestamp": 1669316818444,
     "user": {
      "displayName": "Mert Karabacak",
      "userId": "14308977132914475412"
     },
     "user_tz": 300
    },
    "id": "dNNBjxPmz51F",
    "outputId": "310e2a6e-f6db-4ca0-e365-868764991b30"
   },
   "outputs": [],
   "source": [
    "#Check 2015 data shape.\n",
    "\n",
    "df2015.shape"
   ]
  },
  {
   "cell_type": "code",
   "execution_count": null,
   "id": "dNt1CtN_z51F",
   "metadata": {
    "colab": {
     "base_uri": "https://localhost:8080/"
    },
    "executionInfo": {
     "elapsed": 478,
     "status": "ok",
     "timestamp": 1669316818920,
     "user": {
      "displayName": "Mert Karabacak",
      "userId": "14308977132914475412"
     },
     "user_tz": 300
    },
    "id": "dNt1CtN_z51F",
    "outputId": "0db9b6fd-2008-4a30-a3e7-fb26876420b3"
   },
   "outputs": [],
   "source": [
    "#Identify PCF with CPT codes.\n",
    "\n",
    "df2015_pcf = df2015[(df2015['CPT'] == 22600) | (df2015['CONCPT1'] == 22600) | (df2015['CONCPT2'] == 22600) | (df2015['CONCPT3'] == 22600) | (df2015['CONCPT4'] == 22600) | (df2015['CONCPT5'] == 22600) | (df2015['CONCPT6'] == 22600) | (df2015['CONCPT7'] == 22600) | (df2015['CONCPT8'] == 22600) | (df2015['CONCPT9'] == 22600) | (df2015['CONCPT10'] == 22600) | (df2015['OTHERCPT1'] == 22600) | (df2015['OTHERCPT2'] == 22600) | (df2015['OTHERCPT3'] == 22600) | (df2015['OTHERCPT4'] == 22600) | (df2015['OTHERCPT5'] == 22600) | (df2015['OTHERCPT6'] == 22600) | (df2015['OTHERCPT7'] == 22600) | (df2015['OTHERCPT8'] == 22600) | (df2015['OTHERCPT9'] == 22600) | (df2015['OTHERCPT10'] == 22600)]\n",
    "print(df2015_pcf.shape)"
   ]
  },
  {
   "cell_type": "code",
   "execution_count": null,
   "id": "NOlAEf_s0DZh",
   "metadata": {
    "executionInfo": {
     "elapsed": 99858,
     "status": "ok",
     "timestamp": 1669316918777,
     "user": {
      "displayName": "Mert Karabacak",
      "userId": "14308977132914475412"
     },
     "user_tz": 300
    },
    "id": "NOlAEf_s0DZh"
   },
   "outputs": [],
   "source": [
    "#Read 2014 data.\n",
    "\n",
    "df2014 = pd.read_csv(\"/content/drive/MyDrive/NSQIP-PUFs/NSQIP_2014.csv\", index_col = 'CaseID', encoding = 'latin1', low_memory = False)\n",
    "\n",
    "df2014.columns = map(str.upper, df2014.columns)"
   ]
  },
  {
   "cell_type": "code",
   "execution_count": null,
   "id": "oDQ1gcbY0DZh",
   "metadata": {
    "colab": {
     "base_uri": "https://localhost:8080/"
    },
    "executionInfo": {
     "elapsed": 11,
     "status": "ok",
     "timestamp": 1669316918777,
     "user": {
      "displayName": "Mert Karabacak",
      "userId": "14308977132914475412"
     },
     "user_tz": 300
    },
    "id": "oDQ1gcbY0DZh",
    "outputId": "d4223477-3485-4591-ed66-dcf997574efe"
   },
   "outputs": [],
   "source": [
    "#Check 2014 data shape.\n",
    "\n",
    "df2014.shape"
   ]
  },
  {
   "cell_type": "code",
   "execution_count": null,
   "id": "tJ_5Oq4e0DZi",
   "metadata": {
    "colab": {
     "base_uri": "https://localhost:8080/"
    },
    "executionInfo": {
     "elapsed": 1147,
     "status": "ok",
     "timestamp": 1669316919921,
     "user": {
      "displayName": "Mert Karabacak",
      "userId": "14308977132914475412"
     },
     "user_tz": 300
    },
    "id": "tJ_5Oq4e0DZi",
    "outputId": "0c88d342-1c4e-49f0-d625-501446b0d47b"
   },
   "outputs": [],
   "source": [
    "#Identify PCF with CPT codes.\n",
    "\n",
    "df2014_pcf = df2014[(df2014['CPT'] == 22600) | (df2014['CONCPT1'] == 22600) | (df2014['CONCPT2'] == 22600) | (df2014['CONCPT3'] == 22600) | (df2014['CONCPT4'] == 22600) | (df2014['CONCPT5'] == 22600) | (df2014['CONCPT6'] == 22600) | (df2014['CONCPT7'] == 22600) | (df2014['CONCPT8'] == 22600) | (df2014['CONCPT9'] == 22600) | (df2014['CONCPT10'] == 22600) | (df2014['OTHERCPT1'] == 22600) | (df2014['OTHERCPT2'] == 22600) | (df2014['OTHERCPT3'] == 22600) | (df2014['OTHERCPT4'] == 22600) | (df2014['OTHERCPT5'] == 22600) | (df2014['OTHERCPT6'] == 22600) | (df2014['OTHERCPT7'] == 22600) | (df2014['OTHERCPT8'] == 22600) | (df2014['OTHERCPT9'] == 22600) | (df2014['OTHERCPT10'] == 22600)]\n",
    "print(df2014_pcf.shape)"
   ]
  },
  {
   "cell_type": "code",
   "execution_count": null,
   "id": "1b7d99af-1e65-4876-af89-7255c85e4160",
   "metadata": {
    "executionInfo": {
     "elapsed": 774,
     "status": "ok",
     "timestamp": 1669316920694,
     "user": {
      "displayName": "Mert Karabacak",
      "userId": "14308977132914475412"
     },
     "user_tz": 300
    },
    "id": "1b7d99af-1e65-4876-af89-7255c85e4160"
   },
   "outputs": [],
   "source": [
    "#Combine data.\n",
    "\n",
    "dfs = [df2014_pcf, df2015_pcf, df2016_pcf, df2017_pcf, df2018_pcf, df2019_pcf, df2020_pcf]\n",
    "\n",
    "combined = pd.concat(dfs)"
   ]
  },
  {
   "cell_type": "code",
   "execution_count": null,
   "id": "8618f193-6d71-4a63-8e03-c55a5a87c117",
   "metadata": {
    "colab": {
     "base_uri": "https://localhost:8080/"
    },
    "executionInfo": {
     "elapsed": 2,
     "status": "ok",
     "timestamp": 1669316920694,
     "user": {
      "displayName": "Mert Karabacak",
      "userId": "14308977132914475412"
     },
     "user_tz": 300
    },
    "id": "8618f193-6d71-4a63-8e03-c55a5a87c117",
    "outputId": "bcfd9e60-7900-4bc2-fb7a-d3d9bfabe48b"
   },
   "outputs": [],
   "source": [
    "#Check data shape.\n",
    "\n",
    "combined.shape"
   ]
  },
  {
   "cell_type": "code",
   "execution_count": null,
   "id": "d1fead1c-70b3-4814-9546-c1e6bfe8fa13",
   "metadata": {
    "colab": {
     "base_uri": "https://localhost:8080/",
     "height": 647
    },
    "executionInfo": {
     "elapsed": 149,
     "status": "ok",
     "timestamp": 1669316920842,
     "user": {
      "displayName": "Mert Karabacak",
      "userId": "14308977132914475412"
     },
     "user_tz": 300
    },
    "id": "d1fead1c-70b3-4814-9546-c1e6bfe8fa13",
    "outputId": "631e5997-b429-426b-fed8-27151ace35e0"
   },
   "outputs": [],
   "source": [
    "#See combined dataframe head.\n",
    "\n",
    "combined.head()"
   ]
  },
  {
   "cell_type": "code",
   "execution_count": null,
   "id": "9088cd6b-d531-4450-9913-37be2ac78587",
   "metadata": {
    "colab": {
     "base_uri": "https://localhost:8080/",
     "height": 647
    },
    "executionInfo": {
     "elapsed": 4,
     "status": "ok",
     "timestamp": 1669316920842,
     "user": {
      "displayName": "Mert Karabacak",
      "userId": "14308977132914475412"
     },
     "user_tz": 300
    },
    "id": "9088cd6b-d531-4450-9913-37be2ac78587",
    "outputId": "78b8595b-0647-47c7-c4fa-71e57830b093"
   },
   "outputs": [],
   "source": [
    "#See combined dataframe tail.\n",
    "\n",
    "combined.tail()"
   ]
  },
  {
   "cell_type": "code",
   "execution_count": null,
   "id": "cd269ba3-7d20-402e-96f1-c4394e1fef3b",
   "metadata": {
    "executionInfo": {
     "elapsed": 3534,
     "status": "ok",
     "timestamp": 1669316924545,
     "user": {
      "displayName": "Mert Karabacak",
      "userId": "14308977132914475412"
     },
     "user_tz": 300
    },
    "id": "cd269ba3-7d20-402e-96f1-c4394e1fef3b"
   },
   "outputs": [],
   "source": [
    "#Save combined data.\n",
    "\n",
    "combined.to_csv('/content/drive/MyDrive/NSQIP-PCF/pcf_combined.csv')"
   ]
  }
 ],
 "metadata": {
  "colab": {
   "machine_shape": "hm",
   "provenance": [
    {
     "file_id": "https://github.com/mertkarabacak/NSQIP-ACDF/blob/main/concatenate.ipynb",
     "timestamp": 1669235177814
    }
   ]
  },
  "environment": {
   "kernel": "python3",
   "name": "common-cpu.m100",
   "type": "gcloud",
   "uri": "gcr.io/deeplearning-platform-release/base-cpu:m100"
  },
  "gpuClass": "standard",
  "kernelspec": {
   "display_name": "Python 3 (ipykernel)",
   "language": "python",
   "name": "python3"
  },
  "language_info": {
   "codemirror_mode": {
    "name": "ipython",
    "version": 3
   },
   "file_extension": ".py",
   "mimetype": "text/x-python",
   "name": "python",
   "nbconvert_exporter": "python",
   "pygments_lexer": "ipython3",
   "version": "3.9.13"
  }
 },
 "nbformat": 4,
 "nbformat_minor": 5
}
